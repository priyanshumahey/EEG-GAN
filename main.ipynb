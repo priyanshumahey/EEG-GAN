{
 "cells": [
  {
   "attachments": {},
   "cell_type": "markdown",
   "metadata": {},
   "source": [
    "# EEG-GAN"
   ]
  },
  {
   "attachments": {},
   "cell_type": "markdown",
   "metadata": {},
   "source": [
    "## Initialization"
   ]
  },
  {
   "attachments": {},
   "cell_type": "markdown",
   "metadata": {},
   "source": [
    "### Imports"
   ]
  },
  {
   "cell_type": "code",
   "execution_count": null,
   "metadata": {},
   "outputs": [],
   "source": [
    "import os, requests\n",
    "from matplotlib import rcParams\n",
    "from matplotlib import pyplot as plt\n",
    "import numpy as np\n",
    "from scipy import signal\n",
    "import pandas as pd\n",
    "import torch\n",
    "import torch.nn as nn\n",
    "from torch.utils import data\n",
    "from Datasets import process\n",
    "from torch.utils.tensorboard import SummaryWriter\n",
    "writer = SummaryWriter()"
   ]
  },
  {
   "attachments": {},
   "cell_type": "markdown",
   "metadata": {},
   "source": [
    "### Seeds and Init"
   ]
  },
  {
   "cell_type": "code",
   "execution_count": null,
   "metadata": {},
   "outputs": [],
   "source": [
    "use_cuda = torch.cuda.is_available()\n",
    "device = torch.device(\"cuda:0\" if use_cuda else \"cpu\")\n",
    "torch.backends.cudnn.benchmark = True\n",
    "\n",
    "np.random.seed(1)\n",
    "torch.manual_seed(1)\n",
    "torch.cuda.manual_seed(1)\n",
    "torch.use_deterministic_algorithms(True)"
   ]
  },
  {
   "attachments": {},
   "cell_type": "markdown",
   "metadata": {},
   "source": [
    "## Loading the Dataset"
   ]
  },
  {
   "cell_type": "code",
   "execution_count": null,
   "metadata": {},
   "outputs": [],
   "source": [
    "# This is the name we'll set for the file\n",
    "fname = 'motor_imagery.npz'\n",
    "# Options are 'test' and 'real'. Test is smaller version of the dataset, real is the full dataset.\n",
    "mode = 'test'\n",
    "# 12 is the hand, 11 is the tongue\n",
    "desired_stim = 12\n",
    "# Load the data\n",
    "DataLoad = np.load(fname, allow_pickle=True)['dat']\n",
    "# Print the data\n",
    "type(DataLoad), len(DataLoad), DataLoad.shape, DataLoad[0][0].keys()"
   ]
  },
  {
   "cell_type": "code",
   "execution_count": null,
   "metadata": {},
   "outputs": [],
   "source": [
    "# This is where we'll keep all the processed data\n",
    "realV = {}\n",
    "imagV = {}\n",
    "\n",
    "# This is where we'll hold all the metadata\n",
    "realMeta = {}\n",
    "imagineMeta = {}\n",
    "\n",
    "# These are the keys we'll be filtering for in the dataset\n",
    "desiredKeys = ['t_off', 'stim_id', 't_on', 'V', 'scale_uv', 'locs', 'srate']\n",
    "\n",
    "if mode == 'test':\n",
    "    length_of_data = 1\n",
    "elif mode == 'real':\n",
    "    length_of_data = len(DataLoad)\n",
    "\n",
    "trange = np.arange(0, 2000)"
   ]
  },
  {
   "cell_type": "code",
   "execution_count": null,
   "metadata": {},
   "outputs": [],
   "source": [
    "for i in range(length_of_data):\n",
    "    print(f\"Sample rate of participant (real) {i}: {DataLoad[i][0]['srate']}\")\n",
    "    print(f\"Sample rate of participant (imagine) {i}: {DataLoad[i][1]['srate']}\")\n",
    "    \n",
    "    x = process.preprocess(DataLoad[i][0])\n",
    "    nt, nchan = x.shape\n",
    "    nstim = len(DataLoad[i][0]['t_on'])\n",
    "    ts = DataLoad[i][0]['t_on'][:, np.newaxis] + trange\n",
    "    V_epochs = np.reshape(x[ts, :], (nstim, 2000, nchan))\n",
    "    V_epochs = V_epochs[DataLoad[i][0]['stim_id']==desired_stim]\n",
    "    print(V_epochs.shape)\n",
    "    realV[i] = V_epochs\n",
    "    realMeta[i] = {key: DataLoad[i][0][key] for key in desiredKeys}\n",
    "\n",
    "    y = process.preprocess(DataLoad[i][1])\n",
    "    nt, nchan = y.shape\n",
    "    nstim = len(DataLoad[i][1]['t_on'])\n",
    "    ts = DataLoad[i][1]['t_on'][:, np.newaxis] + trange\n",
    "    V_epochs = np.reshape(y[ts, :], (nstim, 2000, nchan))\n",
    "    V_epochs = V_epochs[DataLoad[i][1]['stim_id']==desired_stim]\n",
    "    print(V_epochs.shape)\n",
    "    imagV[i] = V_epochs\n",
    "    imagineMeta[i] = {key: DataLoad[i][1][key] for key in desiredKeys}"
   ]
  },
  {
   "cell_type": "code",
   "execution_count": null,
   "metadata": {},
   "outputs": [],
   "source": [
    "class EEGDataset(torch.utils.data.Dataset):\n",
    "    def __init__(self, data):\n",
    "        self.data = data\n",
    "\n",
    "    def __len__(self):\n",
    "        return len(self.data)\n",
    "\n",
    "    def __getitem__(self, index):\n",
    "        return self.data[index]"
   ]
  },
  {
   "cell_type": "code",
   "execution_count": null,
   "metadata": {},
   "outputs": [],
   "source": [
    "EEG = EEGDataset(realV[0])\n",
    "plt.plot(trange, EEG.__getitem__(1))\n",
    "plt.show()"
   ]
  },
  {
   "attachments": {},
   "cell_type": "markdown",
   "metadata": {},
   "source": [
    "## GAN"
   ]
  }
 ],
 "metadata": {
  "kernelspec": {
   "display_name": "orl",
   "language": "python",
   "name": "python3"
  },
  "language_info": {
   "codemirror_mode": {
    "name": "ipython",
    "version": 3
   },
   "file_extension": ".py",
   "mimetype": "text/x-python",
   "name": "python",
   "nbconvert_exporter": "python",
   "pygments_lexer": "ipython3",
   "version": "3.8.16"
  },
  "orig_nbformat": 4
 },
 "nbformat": 4,
 "nbformat_minor": 2
}
