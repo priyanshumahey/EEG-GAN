{
 "cells": [
  {
   "cell_type": "code",
   "execution_count": null,
   "metadata": {},
   "outputs": [],
   "source": [
    "import mne\n",
    "import os"
   ]
  },
  {
   "cell_type": "code",
   "execution_count": null,
   "metadata": {},
   "outputs": [],
   "source": [
    "main_folder = './MNE-eegbci-data/files/eegmmidb/1.0.0'\n",
    "\n",
    "subdirectories = [f.path for f in os.scandir(main_folder) if f.is_dir()]\n",
    "\n",
    "opened_files = []\n",
    "closed_files = []\n",
    "\n",
    "for subdirectory in subdirectories:\n",
    "    files = os.listdir(subdirectory)\n",
    "    \n",
    "    if len(files) > 0:\n",
    "        for file in files:\n",
    "            \n",
    "            if file[-6:] == '01.edf':\n",
    "                eyes_opened = os.path.join(subdirectory, file)\n",
    "                print(eyes_opened)\n",
    "                opened_files.append(eyes_opened)\n",
    "\n",
    "            if file[-6:] == '02.edf':\n",
    "                eyes_closed = os.path.join(subdirectory, file)\n",
    "                print(eyes_closed)\n",
    "                closed_files.append(eyes_closed)\n",
    "    else:\n",
    "        print(f\"No files found in {subdirectory}\")"
   ]
  },
  {
   "cell_type": "code",
   "execution_count": null,
   "metadata": {},
   "outputs": [],
   "source": [
    "large_open_data = []\n",
    "\n",
    "for data in opened_files:\n",
    "    large_open_data.append(mne.io.read_raw_edf(data, preload=True).get_data())\n",
    "\n",
    "large_closed_data = []\n",
    "\n",
    "for data in closed_files:\n",
    "    large_closed_data.append(mne.io.read_raw_edf(data, preload=True).get_data())"
   ]
  },
  {
   "cell_type": "code",
   "execution_count": null,
   "metadata": {},
   "outputs": [],
   "source": [
    "large_open_data.__len__()"
   ]
  }
 ],
 "metadata": {
  "kernelspec": {
   "display_name": "orl",
   "language": "python",
   "name": "python3"
  },
  "language_info": {
   "codemirror_mode": {
    "name": "ipython",
    "version": 3
   },
   "file_extension": ".py",
   "mimetype": "text/x-python",
   "name": "python",
   "nbconvert_exporter": "python",
   "pygments_lexer": "ipython3",
   "version": "3.8.16"
  },
  "orig_nbformat": 4
 },
 "nbformat": 4,
 "nbformat_minor": 2
}
