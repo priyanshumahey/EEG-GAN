{
 "cells": [
  {
   "attachments": {},
   "cell_type": "markdown",
   "metadata": {},
   "source": [
    "# Dataset"
   ]
  },
  {
   "attachments": {},
   "cell_type": "markdown",
   "metadata": {},
   "source": [
    "## Initialize Dataset"
   ]
  },
  {
   "cell_type": "code",
   "execution_count": null,
   "metadata": {},
   "outputs": [],
   "source": [
    "from matplotlib import pyplot as plt\n",
    "from matplotlib import rcParams\n",
    "from scipy import signal\n",
    "import pandas as pd\n",
    "import numpy as np\n",
    "import requests\n",
    "import os"
   ]
  },
  {
   "cell_type": "code",
   "execution_count": null,
   "metadata": {},
   "outputs": [],
   "source": [
    "fname = 'motor_imagery.npz'\n",
    "url = \"https://osf.io/ksqv8/download\"\n",
    "\n",
    "if not os.path.isfile(fname):\n",
    "  try:\n",
    "    r = requests.get(url)\n",
    "  except requests.ConnectionError:\n",
    "    print(\"!!! Failed to download data !!!\")\n",
    "  else:\n",
    "    if r.status_code != requests.codes.ok:\n",
    "      print(\"!!! Failed to download data !!!\")\n",
    "    else:\n",
    "      with open(fname, \"wb\") as fid:\n",
    "        fid.write(r.content)\n",
    "\n",
    "rcParams['figure.figsize'] = [20, 4]\n",
    "rcParams['font.size'] = 15\n",
    "rcParams['axes.spines.top'] = False\n",
    "rcParams['axes.spines.right'] = False\n",
    "rcParams['figure.autolayout'] = True"
   ]
  },
  {
   "cell_type": "code",
   "execution_count": null,
   "metadata": {},
   "outputs": [],
   "source": [
    "class process():\n",
    "    def __init__():\n",
    "        \"\"\"\n",
    "        This class is used to preprocess the data.\n",
    "        The input is a dict with a key 'V' containing the voltage data.\n",
    "        \"\"\"\n",
    "        return\n",
    "\n",
    "    def preprocess(data):\n",
    "        V = data['V'].astype('float32')\n",
    "        b, a = signal.butter(3, [50], btype='high', fs=1000)\n",
    "        V = signal.filtfilt(b, a, V, 0)\n",
    "        V = np.abs(V)**2\n",
    "        b, a = signal.butter(3, [10], btype='low', fs=1000)\n",
    "        V = signal.filtfilt(b, a, V, 0)\n",
    "        V = V/V.mean(0)\n",
    "        return V\n",
    "\n",
    "class plots():\n",
    "    def __init__():\n",
    "        return\n",
    "\n",
    "    def singlechannel1(data, channel, trange):\n",
    "        plt.figure(figsize=(20,10))\n",
    "        plt.plot(trange, data[:,channel])\n",
    "        plt.title('ch%d'%channel)\n",
    "        plt.xticks([0, 1000, 2000])\n",
    "        plt.ylim([0, 4])\n",
    "\n",
    "    def singlechannel2(data, data2, channel, trange):\n",
    "        plt.figure(figsize=(20,10))\n",
    "        plt.plot(trange, data[:,channel])\n",
    "        plt.plot(trange, data2[:,channel])\n",
    "        plt.title('ch%d'%channel)\n",
    "        plt.xticks([0, 1000, 2000])\n",
    "        plt.ylim([0, 4])\n",
    "\n",
    "    def all_channels1(data, trange):\n",
    "        plt.figure(figsize=(20,10))\n",
    "        for j in range(46):\n",
    "            ax = plt.subplot(5,10,j+1)\n",
    "            plt.plot(trange, data[:,j])\n",
    "            plt.title('ch%d'%j)\n",
    "            plt.xticks([0, 1000, 2000])\n",
    "            plt.ylim([0, 4])\n",
    "\n",
    "    def all_channels2(data, data2, trange):\n",
    "        plt.figure(figsize=(20,10))\n",
    "        for j in range(46):\n",
    "            ax = plt.subplot(5,10,j+1)\n",
    "            plt.plot(trange, data[:,j])\n",
    "            plt.plot(trange, data2[:,j])\n",
    "            plt.title('ch%d'%j)\n",
    "            plt.xticks([0, 1000, 2000])\n",
    "            plt.ylim([0, 4])"
   ]
  },
  {
   "cell_type": "code",
   "execution_count": null,
   "metadata": {},
   "outputs": [],
   "source": [
    "DataLoad = np.load(fname, allow_pickle=True)['dat']\n",
    "type(DataLoad), len(DataLoad), DataLoad.shape, DataLoad[0][0].keys()"
   ]
  },
  {
   "cell_type": "code",
   "execution_count": null,
   "metadata": {},
   "outputs": [],
   "source": [
    "realV = {}\n",
    "imagineV = {}\n",
    "realSet = {}\n",
    "imagineSet = {}\n",
    "\n",
    "desiredKeys = ['t_off', 'stim_id', 't_on', 'V', 'scale_uv', 'locs', 'srate']\n",
    "\n",
    "for i in range(7):\n",
    "    print(f\"Sample rate of participant (real) {i}: {DataLoad[i][0]['srate']}\")\n",
    "    print(f\"Sample rate of participant (imagine) {i}: {DataLoad[i][1]['srate']}\")\n",
    "    \n",
    "    x = process.preprocess(DataLoad[i][0])\n",
    "    nt, nchan = x.shape\n",
    "    nstim = len(DataLoad[i][0]['t_on'])\n",
    "    trange = np.arange(0, 2000)\n",
    "    ts = DataLoad[i][0]['t_on'][:, np.newaxis] + trange\n",
    "    V_epochs = np.reshape(x[ts, :], (nstim, 2000, nchan))\n",
    "    print(V_epochs.shape)\n",
    "    realV[i] = V_epochs\n",
    "    realSet[i] = {key: DataLoad[i][0][key] for key in desiredKeys}\n",
    "\n",
    "    y = process.preprocess(DataLoad[i][1])\n",
    "    nt, nchan = y.shape\n",
    "    nstim = len(DataLoad[i][1]['t_on'])\n",
    "    trange = np.arange(0, 2000)\n",
    "    ts = DataLoad[i][1]['t_on'][:, np.newaxis] + trange\n",
    "    V_epochs = np.reshape(y[ts, :], (nstim, 2000, nchan))\n",
    "    print(V_epochs.shape)\n",
    "    imagineV[i] = V_epochs\n",
    "    imagineSet[i] = {key: DataLoad[i][1][key] for key in desiredKeys}\n"
   ]
  },
  {
   "cell_type": "code",
   "execution_count": null,
   "metadata": {},
   "outputs": [],
   "source": [
    "# realV contains the preprocessed and properly filtered data for the real movement trials\n",
    "realV\n",
    "# realSet contains the metadata for the real movement trials\n",
    "realSet\n",
    "\n",
    "# imagineV contains the preprocessed and properly filtered data for the imagined movement trials\n",
    "imagineV\n",
    "# imagineSet contains the metadata for the imagined movement trials\n",
    "imagineSet"
   ]
  }
 ],
 "metadata": {
  "kernelspec": {
   "display_name": "orl",
   "language": "python",
   "name": "python3"
  },
  "language_info": {
   "codemirror_mode": {
    "name": "ipython",
    "version": 3
   },
   "file_extension": ".py",
   "mimetype": "text/x-python",
   "name": "python",
   "nbconvert_exporter": "python",
   "pygments_lexer": "ipython3",
   "version": "3.8.16"
  },
  "orig_nbformat": 4
 },
 "nbformat": 4,
 "nbformat_minor": 2
}
