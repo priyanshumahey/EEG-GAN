{
 "cells": [
  {
   "attachments": {},
   "cell_type": "markdown",
   "metadata": {},
   "source": [
    "# EEG-GAN"
   ]
  },
  {
   "attachments": {},
   "cell_type": "markdown",
   "metadata": {},
   "source": [
    "## Initialization"
   ]
  },
  {
   "attachments": {},
   "cell_type": "markdown",
   "metadata": {},
   "source": [
    "### Imports"
   ]
  },
  {
   "cell_type": "code",
   "execution_count": null,
   "metadata": {},
   "outputs": [],
   "source": [
    "import os, requests\n",
    "from matplotlib import rcParams\n",
    "from matplotlib import pyplot as plt\n",
    "import numpy as np\n",
    "from scipy import signal\n",
    "import pandas as pd"
   ]
  },
  {
   "attachments": {},
   "cell_type": "markdown",
   "metadata": {},
   "source": [
    "### Dataset"
   ]
  },
  {
   "cell_type": "code",
   "execution_count": null,
   "metadata": {},
   "outputs": [],
   "source": [
    "fname = 'motor_imagery.npz'\n",
    "url = \"https://osf.io/ksqv8/download\"\n",
    "\n",
    "if not os.path.isfile(fname):\n",
    "  try:\n",
    "    r = requests.get(url)\n",
    "  except requests.ConnectionError:\n",
    "    print(\"!!! Failed to download data !!!\")\n",
    "  else:\n",
    "    if r.status_code != requests.codes.ok:\n",
    "      print(\"!!! Failed to download data !!!\")\n",
    "    else:\n",
    "      with open(fname, \"wb\") as fid:\n",
    "        fid.write(r.content)"
   ]
  },
  {
   "attachments": {},
   "cell_type": "markdown",
   "metadata": {},
   "source": [
    "### Figure Settings"
   ]
  },
  {
   "attachments": {},
   "cell_type": "markdown",
   "metadata": {},
   "source": [
    "rcParams['figure.figsize'] = [20, 4]\n",
    "rcParams['font.size'] = 15\n",
    "rcParams['axes.spines.top'] = False\n",
    "rcParams['axes.spines.right'] = False\n",
    "rcParams['figure.autolayout'] = True"
   ]
  },
  {
   "attachments": {},
   "cell_type": "markdown",
   "metadata": {},
   "source": [
    "### Helper Functions"
   ]
  },
  {
   "cell_type": "code",
   "execution_count": null,
   "metadata": {},
   "outputs": [],
   "source": [
    "class process():\n",
    "    def __init__():\n",
    "        return\n",
    "\n",
    "    def preprocess(data):\n",
    "        V = data['V'].astype('float32')\n",
    "        b, a = signal.butter(3, [50], btype = 'high', fs=1000)\n",
    "        V = signal.filtfilt(b,a,V,0)\n",
    "        V = np.abs(V)**2\n",
    "        b, a = signal.butter(3, [10], btype = 'low', fs=1000)\n",
    "        V = signal.filtfilt(b,a,V,0)\n",
    "        V = V/V.mean(0)\n",
    "        return V\n",
    "\n",
    "class plots():\n",
    "    def __init__():\n",
    "        return\n",
    "\n",
    "    def singlechannel1(data, channel, trange):\n",
    "        plt.figure(figsize=(20,10))\n",
    "        plt.plot(trange, data[:,channel])\n",
    "        plt.title('ch%d'%channel)\n",
    "        plt.xticks([0, 1000, 2000])\n",
    "        plt.ylim([0, 4])\n",
    "\n",
    "    def singlechannel2(data, data2, channel, trange):\n",
    "        plt.figure(figsize=(20,10))\n",
    "        plt.plot(trange, data[:,channel])\n",
    "        plt.plot(trange, data2[:,channel])\n",
    "        plt.title('ch%d'%channel)\n",
    "        plt.xticks([0, 1000, 2000])\n",
    "        plt.ylim([0, 4])\n",
    "\n",
    "    def all_channels1(data, trange):\n",
    "        plt.figure(figsize=(20,10))\n",
    "        for j in range(46):\n",
    "            ax = plt.subplot(5,10,j+1)\n",
    "            plt.plot(trange, data[:,j])\n",
    "            plt.title('ch%d'%j)\n",
    "            plt.xticks([0, 1000, 2000])\n",
    "            plt.ylim([0, 4])\n",
    "\n",
    "    def all_channels2(data, data2, trange):\n",
    "        plt.figure(figsize=(20,10))\n",
    "        for j in range(46):\n",
    "            ax = plt.subplot(5,10,j+1)\n",
    "            plt.plot(trange, data[:,j])\n",
    "            plt.plot(trange, data2[:,j])\n",
    "            plt.title('ch%d'%j)\n",
    "            plt.xticks([0, 1000, 2000])\n",
    "            plt.ylim([0, 4])"
   ]
  },
  {
   "attachments": {},
   "cell_type": "markdown",
   "metadata": {},
   "source": [
    "## GAN"
   ]
  },
  {
   "cell_type": "code",
   "execution_count": null,
   "metadata": {},
   "outputs": [],
   "source": [
    "import torch\n",
    "import torch.nn as nn\n",
    "from torch.utils import data"
   ]
  },
  {
   "cell_type": "code",
   "execution_count": null,
   "metadata": {},
   "outputs": [],
   "source": [
    "use_cuda = torch.cuda.is_available()\n",
    "device = torch.device(\"cuda:0\" if use_cuda else \"cpu\")\n",
    "torch.backends.cudnn.benchmark = True\n",
    "\n",
    "\n",
    "np.random.seed(1)\n",
    "torch.manual_seed(1)\n",
    "torch.cuda.manual_seed(1)"
   ]
  },
  {
   "cell_type": "code",
   "execution_count": null,
   "metadata": {},
   "outputs": [],
   "source": [
    "#The dataset\n",
    "specify_channel = 20\n",
    "\n",
    "cnn_inputs_real = []\n",
    "for i in range(30):\n",
    "    abc = V_hand_real[i]\n",
    "    cnn_inputs_real.append(abc[:, specify_channel])\n",
    "#cnn_inputs_real is for real data. 1 is the label for real\n",
    "cnn_inputs_real = np.array(cnn_inputs_real)\n",
    "\n",
    "\n",
    "labels_real = np.ones((30))\n",
    "labels_real = labels_real.reshape(30,1)\n",
    "\n",
    "\n",
    "cnn_inputs_imagine = []\n",
    "for i in range(30):\n",
    "    abc = V_hand_imagine[i]\n",
    "    cnn_inputs_imagine.append(abc[:, specify_channel])\n",
    "#cnn_inputs_imagine is for imaginary data. 0 is the label for imaginary\n",
    "cnn_inputs_imagine = np.array(cnn_inputs_imagine)\n",
    "\n",
    "labels_imagine = np.zeros((30))\n",
    "labels_imagine = labels_imagine.reshape(30,1) "
   ]
  },
  {
   "cell_type": "code",
   "execution_count": null,
   "metadata": {},
   "outputs": [],
   "source": [
    "trainX = np.append(cnn_inputs_real[0:20], cnn_inputs_imagine[0:20], axis=0)\n",
    "trainy = np.append(labels_real[0:20], labels_imagine[0:20], axis=0)\n",
    "\n",
    "trainX = trainX.reshape([40,2000,1])\n",
    "\n",
    "testX = np.append(cnn_inputs_real[20:30], cnn_inputs_imagine[20:30], axis=0)\n",
    "testy = np.append(labels_real[20:30], labels_imagine[20:30], axis=0)\n",
    "testX = testX.reshape([20,2000,1])"
   ]
  },
  {
   "cell_type": "code",
   "execution_count": null,
   "metadata": {},
   "outputs": [],
   "source": [
    "class EEGDataset(data.Dataset):\n",
    "    def __init__(self, data, labels):\n",
    "        self.data = data\n",
    "        self.labels = labels\n",
    "\n",
    "    def __len__(self):\n",
    "        return len(self.data)\n",
    "\n",
    "    def __getitem__(self, index):\n",
    "        return self.data[index], self.labels[index]"
   ]
  },
  {
   "cell_type": "code",
   "execution_count": null,
   "metadata": {},
   "outputs": [],
   "source": [
    "dataset = EEGDataset()"
   ]
  }
 ],
 "metadata": {
  "kernelspec": {
   "display_name": "orl",
   "language": "python",
   "name": "python3"
  },
  "language_info": {
   "codemirror_mode": {
    "name": "ipython",
    "version": 3
   },
   "file_extension": ".py",
   "mimetype": "text/x-python",
   "name": "python",
   "nbconvert_exporter": "python",
   "pygments_lexer": "ipython3",
   "version": "3.8.16"
  },
  "orig_nbformat": 4
 },
 "nbformat": 4,
 "nbformat_minor": 2
}
