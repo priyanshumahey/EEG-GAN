{
 "cells": [
  {
   "attachments": {},
   "cell_type": "markdown",
   "metadata": {},
   "source": [
    "# EEG - GAN"
   ]
  },
  {
   "attachments": {},
   "cell_type": "markdown",
   "metadata": {},
   "source": [
    "In this project, we attempt to create synthetic EEG signals using a GAN."
   ]
  },
  {
   "attachments": {},
   "cell_type": "markdown",
   "metadata": {},
   "source": [
    "## Initialization"
   ]
  },
  {
   "attachments": {},
   "cell_type": "markdown",
   "metadata": {},
   "source": [
    "#### Import Libraries"
   ]
  },
  {
   "cell_type": "code",
   "execution_count": null,
   "metadata": {},
   "outputs": [],
   "source": [
    "import os, requests\n",
    "from matplotlib import rcParams\n",
    "from matplotlib import pyplot as plt\n",
    "from nilearn import plotting\n",
    "from nimare import utils\n",
    "import numpy as np\n",
    "from scipy import signal"
   ]
  },
  {
   "attachments": {},
   "cell_type": "markdown",
   "metadata": {},
   "source": [
    "#### Dataset"
   ]
  },
  {
   "cell_type": "code",
   "execution_count": null,
   "metadata": {},
   "outputs": [],
   "source": [
    "fname = 'motor_imagery.npz'\n",
    "url = \"https://osf.io/ksqv8/download\"\n",
    "\n",
    "if not os.path.isfile(fname):\n",
    "  try:\n",
    "    r = requests.get(url)\n",
    "  except requests.ConnectionError:\n",
    "    print(\"!!! Failed to download data !!!\")\n",
    "  else:\n",
    "    if r.status_code != requests.codes.ok:\n",
    "      print(\"!!! Failed to download data !!!\")\n",
    "    else:\n",
    "      with open(fname, \"wb\") as fid:\n",
    "        fid.write(r.content)"
   ]
  },
  {
   "attachments": {},
   "cell_type": "markdown",
   "metadata": {},
   "source": [
    "#### Figure Setup"
   ]
  },
  {
   "cell_type": "code",
   "execution_count": null,
   "metadata": {},
   "outputs": [],
   "source": [
    "rcParams['figure.figsize'] = [20, 4]\n",
    "rcParams['font.size'] = 15\n",
    "rcParams['axes.spines.top'] = False\n",
    "rcParams['axes.spines.right'] = False\n",
    "rcParams['figure.autolayout'] = True"
   ]
  },
  {
   "cell_type": "code",
   "execution_count": null,
   "metadata": {},
   "outputs": [],
   "source": [
    "class process():\n",
    "    def __init__():\n",
    "        return\n",
    "\n",
    "    def preprocess(data):\n",
    "        V = data['V'].astype('float32')\n",
    "        b, a = signal.butter(3, [50], btype = 'high', fs=1000)\n",
    "        V = signal.filtfilt(b,a,V,0)\n",
    "        V = np.abs(V)**2\n",
    "        b, a = signal.butter(3, [10], btype = 'low', fs=1000)\n",
    "        V = signal.filtfilt(b,a,V,0)\n",
    "        V = V/V.mean(0)\n",
    "        return V\n",
    "\n",
    "class plots():\n",
    "    def __init__():\n",
    "        return\n",
    "\n",
    "    def singlechannel1(data, channel):\n",
    "        plt.figure(figsize=(20,10))\n",
    "        plt.plot(trange, data[:,channel])\n",
    "        plt.title('ch%d'%channel)\n",
    "        plt.xticks([0, 1000, 2000])\n",
    "        plt.ylim([0, 4])\n",
    "\n",
    "    def singlechannel2(data, data2, channel):\n",
    "        plt.figure(figsize=(20,10))\n",
    "        plt.plot(trange, data[:,channel])\n",
    "        plt.plot(trange, data2[:,channel])\n",
    "        plt.title('ch%d'%channel)\n",
    "        plt.xticks([0, 1000, 2000])\n",
    "        plt.ylim([0, 4])\n",
    "\n",
    "    def all_channels1(data):\n",
    "        plt.figure(figsize=(20,10))\n",
    "        for j in range(46):\n",
    "            ax = plt.subplot(5,10,j+1)\n",
    "            plt.plot(trange, data[:,j])\n",
    "            plt.title('ch%d'%j)\n",
    "            plt.xticks([0, 1000, 2000])\n",
    "            plt.ylim([0, 4])\n",
    "\n",
    "    def all_channels2(data, data2):\n",
    "        plt.figure(figsize=(20,10))\n",
    "        for j in range(46):\n",
    "            ax = plt.subplot(5,10,j+1)\n",
    "            plt.plot(trange, data[:,j])\n",
    "            plt.plot(trange, data2[:,j])\n",
    "            plt.title('ch%d'%j)\n",
    "            plt.xticks([0, 1000, 2000])\n",
    "            plt.ylim([0, 4])"
   ]
  },
  {
   "attachments": {},
   "cell_type": "markdown",
   "metadata": {},
   "source": [
    "## Manipulating the Dataset"
   ]
  },
  {
   "cell_type": "code",
   "execution_count": null,
   "metadata": {},
   "outputs": [],
   "source": [
    "alldat = np.load(fname, allow_pickle=True)['dat']\n",
    "\n",
    "real = alldat[0][0]\n",
    "imagine = alldat[0][1]"
   ]
  },
  {
   "cell_type": "code",
   "execution_count": null,
   "metadata": {},
   "outputs": [],
   "source": [
    "processed_real = process.preprocess(real)\n",
    "nt_pr, nchan_pr = processed_real.shape\n",
    "nstim_r = len(real['t_on'])\n",
    "\n",
    "trange = np.arange(0, 2000)\n",
    "ts = real['t_on'][:,np.newaxis] + trange\n",
    "\n",
    "V_epochs_pr = np.reshape(processed_real[ts, :], (nstim_r, 2000, nchan_pr))\n",
    "\n",
    "V_hand_real = (V_epochs_pr[real['stim_id']==12])  #Change this to 11 to get tongue data and 12 to get hand data\n",
    "\n",
    "\n",
    "##### This is the voltage data and you could change the trial from here\n",
    "hand_real_data = V_hand_real.mean(0)\n",
    "\n",
    "\n",
    "\n",
    "\n",
    "\n",
    "processed_imagine = process.preprocess(imagine)\n",
    "nt_pi, nchan_pi = processed_imagine.shape\n",
    "nstim_i = len(imagine['t_on'])\n",
    "\n",
    "trange = np.arange(0, 2000)\n",
    "ts = imagine['t_on'][:,np.newaxis] + trange\n",
    "\n",
    "V_epochs_pi = np.reshape(processed_imagine[ts, :], (nstim_i, 2000, nchan_pi))\n",
    "\n",
    "V_hand_imagine = (V_epochs_pi[imagine['stim_id']==12])\n",
    "\n",
    "\n",
    "\n",
    "##### This is the voltage data and you could change the trial from here\n",
    "hand_imagine_data = V_hand_imagine.mean(0)"
   ]
  },
  {
   "cell_type": "code",
   "execution_count": null,
   "metadata": {},
   "outputs": [],
   "source": [
    "plots.all_channels2(hand_real_data, hand_imagine_data)\n",
    "plots.singlechannel1(hand_real_data, 13)\n",
    "plots.singlechannel2(hand_real_data, hand_imagine_data, 1)"
   ]
  },
  {
   "cell_type": "code",
   "execution_count": null,
   "metadata": {},
   "outputs": [],
   "source": [
    "#The dataset\n",
    "specify_channel = 20\n",
    "\n",
    "cnn_inputs_real = []\n",
    "for i in range(30):\n",
    "    abc = V_hand_real[i]\n",
    "    cnn_inputs_real.append(abc[:, specify_channel])\n",
    "#cnn_inputs_real is for real data. 1 is the label for real\n",
    "cnn_inputs_real = np.array(cnn_inputs_real)\n",
    "labels_real = np.ones((30))\n",
    "labels_real = labels_real.reshape(30,1)\n",
    "\n",
    "\n",
    "cnn_inputs_imagine = []\n",
    "for i in range(30):\n",
    "    abc = V_hand_imagine[i]\n",
    "    cnn_inputs_imagine.append(abc[:, specify_channel])\n",
    "#cnn_inputs_imagine is for imaginary data. 0 is the label for imaginary\n",
    "cnn_inputs_imagine = np.array(cnn_inputs_imagine)\n",
    "labels_imagine = np.zeros((30))\n",
    "labels_imagine = labels_imagine.reshape(30,1) \n",
    "\n",
    "\n",
    "trainX = np.append(cnn_inputs_real[0:20], cnn_inputs_imagine[0:20], axis=0)\n",
    "trainy = np.append(labels_real[0:20], labels_imagine[0:20], axis=0)\n",
    "\n",
    "trainX = trainX.reshape([40,2000,1])\n",
    "\n",
    "testX = np.append(cnn_inputs_real[20:30], cnn_inputs_imagine[20:30], axis=0)\n",
    "testy = np.append(labels_real[20:30], labels_imagine[20:30], axis=0)\n",
    "testX = testX.reshape([20,2000,1])"
   ]
  },
  {
   "cell_type": "code",
   "execution_count": null,
   "metadata": {},
   "outputs": [],
   "source": [
    "def CNN(trainX, trainy, testX, testy):\n",
    "    n_timesteps, n_features, n_outputs = trainX.shape[1], trainX.shape[2], trainy.shape[1]\n",
    "    verbose = 1\n",
    "    epochs = 200\n",
    "    batch_size = 40\n",
    "    model = Sequential()\n",
    "    model.add(Conv1D(filters=100, kernel_size=50, activation='relu', input_shape=(n_timesteps,n_features)))\n",
    "    #model.add(Conv1D(filters=100, kernel_size=100, activation='relu'))\n",
    "    #model.add(MaxPooling1D())\n",
    "    #model.add(Conv1D(filters=100, kernel_size=40, activation='sigmoid'))\n",
    "    model.add(GlobalAveragePooling1D())\n",
    "    model.add(Dropout(0.05))\n",
    "    model.add(Dense(n_outputs, activation='relu'))\n",
    "    model.compile(loss='categorical_crossentropy', optimizer='adam', metrics=['accuracy'])\n",
    "    accuracy = model.fit(trainX, trainy, epochs=epochs, batch_size=batch_size, verbose=verbose)\n",
    "    return accuracy"
   ]
  },
  {
   "cell_type": "code",
   "execution_count": null,
   "metadata": {},
   "outputs": [],
   "source": [
    "#Final CNN Model\n",
    "n_timesteps, n_features, n_outputs = trainX.shape[1], trainX.shape[2], trainy.shape[1]\n",
    "verbose = 1\n",
    "epochs = 200\n",
    "batch_size = 40\n",
    "model = Sequential()\n",
    "model.add(Conv1D(filters=75, kernel_size=45, activation='relu', input_shape=(n_timesteps,n_features)))\n",
    "model.add(Conv1D(filters=75, kernel_size=30, activation='relu'))\n",
    "model.add(GlobalAveragePooling1D())\n",
    "model.add(Dropout(0.003))\n",
    "model.add(Dense(n_outputs, activation='sigmoid'))\n",
    "model.compile(loss='binary_crossentropy', optimizer='adam', metrics=['accuracy'])\n",
    "historyyy = model.fit(trainX, trainy, epochs=epochs, batch_size=batch_size, verbose=verbose,validation_data=(testX, testy))"
   ]
  },
  {
   "cell_type": "code",
   "execution_count": null,
   "metadata": {},
   "outputs": [],
   "source": [
    "plt.plot(historyyy.history['accuracy'])\n",
    "plt.plot(historyyy.history['loss'])\n",
    "plt.show()\n",
    "plt.plot(historyyy.history['val_accuracy'])\n",
    "plt.plot(historyyy.history['val_loss'])\n",
    "plt.show()"
   ]
  },
  {
   "cell_type": "code",
   "execution_count": null,
   "metadata": {},
   "outputs": [],
   "source": [
    "CNN(trainX, trainy, testX, testy)"
   ]
  }
 ],
 "metadata": {
  "kernelspec": {
   "display_name": "base",
   "language": "python",
   "name": "python3"
  },
  "language_info": {
   "codemirror_mode": {
    "name": "ipython",
    "version": 3
   },
   "file_extension": ".py",
   "mimetype": "text/x-python",
   "name": "python",
   "nbconvert_exporter": "python",
   "pygments_lexer": "ipython3",
   "version": "3.8.16"
  },
  "orig_nbformat": 4
 },
 "nbformat": 4,
 "nbformat_minor": 2
}
