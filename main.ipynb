{
 "cells": [
  {
   "attachments": {},
   "cell_type": "markdown",
   "metadata": {},
   "source": [
    "# EEG - GAN"
   ]
  },
  {
   "attachments": {},
   "cell_type": "markdown",
   "metadata": {},
   "source": [
    "## Initialization"
   ]
  },
  {
   "attachments": {},
   "cell_type": "markdown",
   "metadata": {},
   "source": [
    "#### Import Libraries"
   ]
  },
  {
   "cell_type": "code",
   "execution_count": null,
   "metadata": {},
   "outputs": [],
   "source": [
    "import os, requests\n",
    "from matplotlib import rcParams\n",
    "from matplotlib import pyplot as plt\n",
    "import numpy as np\n",
    "from scipy import signal"
   ]
  },
  {
   "attachments": {},
   "cell_type": "markdown",
   "metadata": {},
   "source": [
    "#### Dataset"
   ]
  },
  {
   "cell_type": "code",
   "execution_count": null,
   "metadata": {},
   "outputs": [],
   "source": [
    "fname = 'motor_imagery.npz'\n",
    "url = \"https://osf.io/ksqv8/download\"\n",
    "\n",
    "if not os.path.isfile(fname):\n",
    "  try:\n",
    "    r = requests.get(url)\n",
    "  except requests.ConnectionError:\n",
    "    print(\"!!! Failed to download data !!!\")\n",
    "  else:\n",
    "    if r.status_code != requests.codes.ok:\n",
    "      print(\"!!! Failed to download data !!!\")\n",
    "    else:\n",
    "      with open(fname, \"wb\") as fid:\n",
    "        fid.write(r.content)"
   ]
  },
  {
   "attachments": {},
   "cell_type": "markdown",
   "metadata": {},
   "source": [
    "#### Figure Setup"
   ]
  },
  {
   "cell_type": "code",
   "execution_count": null,
   "metadata": {},
   "outputs": [],
   "source": [
    "rcParams['figure.figsize'] = [20, 4]\n",
    "rcParams['font.size'] = 15\n",
    "rcParams['axes.spines.top'] = False\n",
    "rcParams['axes.spines.right'] = False\n",
    "rcParams['figure.autolayout'] = True"
   ]
  },
  {
   "cell_type": "code",
   "execution_count": null,
   "metadata": {},
   "outputs": [],
   "source": [
    "class process():\n",
    "    def __init__():\n",
    "        return\n",
    "\n",
    "    def preprocess(data):\n",
    "        V = data['V'].astype('float32')\n",
    "        b, a = signal.butter(3, [50], btype = 'high', fs=1000)\n",
    "        V = signal.filtfilt(b,a,V,0)\n",
    "        V = np.abs(V)**2\n",
    "        b, a = signal.butter(3, [10], btype = 'low', fs=1000)\n",
    "        V = signal.filtfilt(b,a,V,0)\n",
    "        V = V/V.mean(0)\n",
    "        return V\n",
    "\n",
    "class plots():\n",
    "    def __init__():\n",
    "        return\n",
    "\n",
    "    def singlechannel1(data, channel, trange):\n",
    "        plt.figure(figsize=(20,10))\n",
    "        plt.plot(trange, data[:,channel])\n",
    "        plt.title('ch%d'%channel)\n",
    "        plt.xticks([0, 1000, 2000])\n",
    "        plt.ylim([0, 4])\n",
    "\n",
    "    def singlechannel2(data, data2, channel, trange):\n",
    "        plt.figure(figsize=(20,10))\n",
    "        plt.plot(trange, data[:,channel])\n",
    "        plt.plot(trange, data2[:,channel])\n",
    "        plt.title('ch%d'%channel)\n",
    "        plt.xticks([0, 1000, 2000])\n",
    "        plt.ylim([0, 4])\n",
    "\n",
    "    def all_channels1(data, trange):\n",
    "        plt.figure(figsize=(20,10))\n",
    "        for j in range(46):\n",
    "            ax = plt.subplot(5,10,j+1)\n",
    "            plt.plot(trange, data[:,j])\n",
    "            plt.title('ch%d'%j)\n",
    "            plt.xticks([0, 1000, 2000])\n",
    "            plt.ylim([0, 4])\n",
    "\n",
    "    def all_channels2(data, data2, trange):\n",
    "        plt.figure(figsize=(20,10))\n",
    "        for j in range(46):\n",
    "            ax = plt.subplot(5,10,j+1)\n",
    "            plt.plot(trange, data[:,j])\n",
    "            plt.plot(trange, data2[:,j])\n",
    "            plt.title('ch%d'%j)\n",
    "            plt.xticks([0, 1000, 2000])\n",
    "            plt.ylim([0, 4])"
   ]
  },
  {
   "attachments": {},
   "cell_type": "markdown",
   "metadata": {},
   "source": [
    "## Manipulating the Dataset"
   ]
  },
  {
   "cell_type": "code",
   "execution_count": null,
   "metadata": {},
   "outputs": [],
   "source": [
    "AllData = np.load(fname, allow_pickle= True)['dat']\n",
    "\n",
    "AllData[0][0].keys()"
   ]
  },
  {
   "cell_type": "code",
   "execution_count": null,
   "metadata": {},
   "outputs": [],
   "source": [
    "# Checking srate for every subject:\n",
    "for i in range(7):\n",
    "    for j in range(2):\n",
    "        print(AllData[i][j]['srate'])"
   ]
  },
  {
   "attachments": {},
   "cell_type": "markdown",
   "metadata": {},
   "source": [
    "This is how we access subject 0 and experiment 0 (real movement)"
   ]
  },
  {
   "cell_type": "code",
   "execution_count": null,
   "metadata": {},
   "outputs": [],
   "source": [
    "RealPatientZero = AllData[0][0]"
   ]
  },
  {
   "attachments": {},
   "cell_type": "markdown",
   "metadata": {},
   "source": [
    "We store all the real trials in an array called RealPatients which holds 7 different participants real trials."
   ]
  },
  {
   "cell_type": "code",
   "execution_count": null,
   "metadata": {},
   "outputs": [],
   "source": [
    "RealPatients = AllData[:][0]"
   ]
  },
  {
   "attachments": {},
   "cell_type": "markdown",
   "metadata": {},
   "source": [
    "This is how we access subject 0 and experiment 1 (imagined movement)"
   ]
  },
  {
   "cell_type": "code",
   "execution_count": null,
   "metadata": {},
   "outputs": [],
   "source": [
    "ImaginaryPatientZero = AllData[0][1]"
   ]
  },
  {
   "attachments": {},
   "cell_type": "markdown",
   "metadata": {},
   "source": [
    "We also create an array for the imaginary participants called ImaginaryPatients"
   ]
  },
  {
   "cell_type": "code",
   "execution_count": null,
   "metadata": {},
   "outputs": [],
   "source": [
    "ImaginaryPatients = AllData[:][1]"
   ]
  },
  {
   "cell_type": "code",
   "execution_count": null,
   "metadata": {},
   "outputs": [],
   "source": [
    "# Pipeline for preprocessing:\n",
    "\n",
    "## We start off by picking subject 0 and experiment 0 (real movement)\n",
    "data1 = RealPatientZero\n",
    "V = data1['V'].astype('float32')\n",
    "b, a = signal.butter(3, [50], btype = 'high', fs=1000)\n",
    "V = signal.filtfilt(b,a,V,0)\n",
    "V = np.abs(V)**2\n",
    "b, a = signal.butter(3, [10], btype = 'low', fs=1000)\n",
    "V = signal.filtfilt(b,a,V,0)\n",
    "V = V/V.mean(0)"
   ]
  },
  {
   "cell_type": "code",
   "execution_count": null,
   "metadata": {},
   "outputs": [],
   "source": [
    "# average the broadband power across all tongue and hand trials\n",
    "nt, nchan = V.shape\n",
    "nstim = len(data1['t_on'])\n",
    "\n",
    "trange = np.arange(0, 2000)\n",
    "ts = data1['t_on'][:, np.newaxis] + trange\n",
    "V_epochs = np.reshape(V[ts, :], (nstim, 2000, nchan))\n",
    "\n",
    "V_tongue = (V_epochs[data1['stim_id'] == 11]).mean(0)\n",
    "V_hand = (V_epochs[data1['stim_id'] == 12]).mean(0)"
   ]
  },
  {
   "cell_type": "code",
   "execution_count": null,
   "metadata": {},
   "outputs": [],
   "source": [
    "# let's find the electrodes that distinguish tongue from hand movements\n",
    "# note the behaviors happen some time after the visual cue\n",
    "\n",
    "plt.figure(figsize=(20, 10))\n",
    "for j in range(46):\n",
    "  ax = plt.subplot(5, 10, j+1)\n",
    "  plt.plot(trange, V_tongue[:, j])\n",
    "  plt.plot(trange, V_hand[:, j])\n",
    "  plt.title('ch%d'%j)\n",
    "  plt.xticks([0, 1000, 2000])\n",
    "  plt.ylim([0, 4])\n",
    "plt.show()"
   ]
  },
  {
   "cell_type": "code",
   "execution_count": null,
   "metadata": {},
   "outputs": [],
   "source": [
    "isort = np.argsort(data1['stim_id'])\n",
    "\n",
    "V_epochs[isort, :, 20].shape"
   ]
  },
  {
   "cell_type": "code",
   "execution_count": null,
   "metadata": {},
   "outputs": [],
   "source": [
    "# let's look at all the trials for electrode 20 that has a good response to hand movements\n",
    "# we will sort trials by stimulus id\n",
    "plt.subplot(1, 3, 1)\n",
    "isort = np.argsort(data1['stim_id'])\n",
    "plt.imshow(V_epochs[isort, :, 20].astype('float32'),\n",
    "           aspect='auto',\n",
    "           vmax=7, vmin=0,\n",
    "           cmap='magma')\n",
    "plt.colorbar()\n",
    "plt.show()"
   ]
  },
  {
   "cell_type": "code",
   "execution_count": null,
   "metadata": {},
   "outputs": [],
   "source": [
    "# Electrode 42 seems to respond to tongue movements\n",
    "isort = np.argsort(data1['stim_id'])\n",
    "plt.subplot(1, 3, 1)\n",
    "plt.imshow(V_epochs[isort, :, 42].astype('float32'),\n",
    "           aspect='auto',\n",
    "           vmax=7, vmin=0,\n",
    "           cmap='magma')\n",
    "plt.colorbar()\n",
    "plt.show()"
   ]
  },
  {
   "attachments": {},
   "cell_type": "markdown",
   "metadata": {},
   "source": [
    "## OLD METHOD"
   ]
  },
  {
   "cell_type": "code",
   "execution_count": null,
   "metadata": {},
   "outputs": [],
   "source": [
    "alldat = np.load(fname, allow_pickle=True)['dat']\n",
    "\n",
    "real = alldat[0][0]\n",
    "imagine = alldat[0][1]"
   ]
  },
  {
   "cell_type": "code",
   "execution_count": null,
   "metadata": {},
   "outputs": [],
   "source": [
    "processed_real = process.preprocess(real)\n",
    "nt_pr, nchan_pr = processed_real.shape\n",
    "nstim_r = len(real['t_on'])\n",
    "\n",
    "trange = np.arange(0, 2000)\n",
    "ts = real['t_on'][:,np.newaxis] + trange\n",
    "\n",
    "V_epochs_pr = np.reshape(processed_real[ts, :], (nstim_r, 2000, nchan_pr))\n",
    "\n",
    "V_hand_real = (V_epochs_pr[real['stim_id']==12])  #Change this to 11 to get tongue data and 12 to get hand data\n",
    "\n",
    "\n",
    "##### This is the voltage data and you could change the trial from here\n",
    "hand_real_data = V_hand_real.mean(0)\n",
    "\n",
    "\n",
    "\n",
    "\n",
    "\n",
    "processed_imagine = process.preprocess(imagine)\n",
    "nt_pi, nchan_pi = processed_imagine.shape\n",
    "nstim_i = len(imagine['t_on'])\n",
    "\n",
    "trange = np.arange(0, 2000)\n",
    "ts = imagine['t_on'][:,np.newaxis] + trange\n",
    "\n",
    "V_epochs_pi = np.reshape(processed_imagine[ts, :], (nstim_i, 2000, nchan_pi))\n",
    "\n",
    "V_hand_imagine = (V_epochs_pi[imagine['stim_id']==12])\n",
    "\n",
    "\n",
    "\n",
    "##### This is the voltage data and you could change the trial from here\n",
    "hand_imagine_data = V_hand_imagine.mean(0)"
   ]
  },
  {
   "cell_type": "code",
   "execution_count": null,
   "metadata": {},
   "outputs": [],
   "source": [
    "hand_imagine_data = V_hand_imagine.mean(0)\n",
    "hand_real_data = V_hand_real.mean(0)"
   ]
  },
  {
   "cell_type": "code",
   "execution_count": null,
   "metadata": {},
   "outputs": [],
   "source": [
    "V_hand_imagine.shape"
   ]
  },
  {
   "cell_type": "code",
   "execution_count": null,
   "metadata": {},
   "outputs": [],
   "source": [
    "plots.all_channels2(hand_real_data, hand_imagine_data, trange)\n",
    "plots.singlechannel1(V_hand_imagine[0], 13, trange)\n",
    "plots.singlechannel2(hand_real_data, hand_imagine_data, 1, trange)"
   ]
  },
  {
   "attachments": {},
   "cell_type": "markdown",
   "metadata": {},
   "source": [
    "## GAN"
   ]
  },
  {
   "cell_type": "code",
   "execution_count": null,
   "metadata": {},
   "outputs": [],
   "source": [
    "import torch\n",
    "import torch.nn as nn\n",
    "from torch.utils import data"
   ]
  },
  {
   "cell_type": "code",
   "execution_count": null,
   "metadata": {},
   "outputs": [],
   "source": [
    "use_cuda = torch.cuda.is_available()\n",
    "device = torch.device(\"cuda:0\" if use_cuda else \"cpu\")\n",
    "torch.backends.cudnn.benchmark = True\n",
    "\n",
    "\n",
    "np.random.seed(1)\n",
    "torch.manual_seed(1)\n",
    "torch.cuda.manual_seed(1)"
   ]
  },
  {
   "cell_type": "code",
   "execution_count": null,
   "metadata": {},
   "outputs": [],
   "source": [
    "#The dataset\n",
    "specify_channel = 20\n",
    "\n",
    "cnn_inputs_real = []\n",
    "for i in range(30):\n",
    "    abc = V_hand_real[i]\n",
    "    cnn_inputs_real.append(abc[:, specify_channel])\n",
    "#cnn_inputs_real is for real data. 1 is the label for real\n",
    "cnn_inputs_real = np.array(cnn_inputs_real)\n",
    "\n",
    "\n",
    "labels_real = np.ones((30))\n",
    "labels_real = labels_real.reshape(30,1)\n",
    "\n",
    "\n",
    "cnn_inputs_imagine = []\n",
    "for i in range(30):\n",
    "    abc = V_hand_imagine[i]\n",
    "    cnn_inputs_imagine.append(abc[:, specify_channel])\n",
    "#cnn_inputs_imagine is for imaginary data. 0 is the label for imaginary\n",
    "cnn_inputs_imagine = np.array(cnn_inputs_imagine)\n",
    "\n",
    "labels_imagine = np.zeros((30))\n",
    "labels_imagine = labels_imagine.reshape(30,1) "
   ]
  },
  {
   "cell_type": "code",
   "execution_count": null,
   "metadata": {},
   "outputs": [],
   "source": [
    "trainX = np.append(cnn_inputs_real[0:20], cnn_inputs_imagine[0:20], axis=0)\n",
    "trainy = np.append(labels_real[0:20], labels_imagine[0:20], axis=0)\n",
    "\n",
    "trainX = trainX.reshape([40,2000,1])\n",
    "\n",
    "testX = np.append(cnn_inputs_real[20:30], cnn_inputs_imagine[20:30], axis=0)\n",
    "testy = np.append(labels_real[20:30], labels_imagine[20:30], axis=0)\n",
    "testX = testX.reshape([20,2000,1])"
   ]
  },
  {
   "cell_type": "code",
   "execution_count": null,
   "metadata": {},
   "outputs": [],
   "source": [
    "class EEGDataset(data.Dataset):\n",
    "    def __init__(self, data, labels):\n",
    "        self.data = data\n",
    "        self.labels = labels\n",
    "\n",
    "    def __len__(self):\n",
    "        return len(self.data)\n",
    "\n",
    "    def __getitem__(self, index):\n",
    "        return self.data[index], self.labels[index]"
   ]
  },
  {
   "cell_type": "code",
   "execution_count": null,
   "metadata": {},
   "outputs": [],
   "source": [
    "dataset = EEGDataset()\n"
   ]
  }
 ],
 "metadata": {
  "kernelspec": {
   "display_name": "base",
   "language": "python",
   "name": "python3"
  },
  "language_info": {
   "codemirror_mode": {
    "name": "ipython",
    "version": 3
   },
   "file_extension": ".py",
   "mimetype": "text/x-python",
   "name": "python",
   "nbconvert_exporter": "python",
   "pygments_lexer": "ipython3",
   "version": "3.8.16"
  },
  "orig_nbformat": 4
 },
 "nbformat": 4,
 "nbformat_minor": 2
}
