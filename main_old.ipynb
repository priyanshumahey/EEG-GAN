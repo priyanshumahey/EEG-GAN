{
 "cells": [
  {
   "attachments": {},
   "cell_type": "markdown",
   "metadata": {},
   "source": [
    "# EEG - GAN"
   ]
  },
  {
   "attachments": {},
   "cell_type": "markdown",
   "metadata": {},
   "source": [
    "## Initialization"
   ]
  },
  {
   "attachments": {},
   "cell_type": "markdown",
   "metadata": {},
   "source": [
    "#### Import Libraries"
   ]
  },
  {
   "cell_type": "code",
   "execution_count": 1,
   "metadata": {},
   "outputs": [],
   "source": [
    "import os, requests\n",
    "from matplotlib import rcParams\n",
    "from matplotlib import pyplot as plt\n",
    "import numpy as np\n",
    "from scipy import signal\n",
    "import pandas as pd"
   ]
  },
  {
   "attachments": {},
   "cell_type": "markdown",
   "metadata": {},
   "source": [
    "#### Dataset"
   ]
  },
  {
   "cell_type": "code",
   "execution_count": 2,
   "metadata": {},
   "outputs": [],
   "source": [
    "fname = 'motor_imagery.npz'\n",
    "url = \"https://osf.io/ksqv8/download\"\n",
    "\n",
    "if not os.path.isfile(fname):\n",
    "  try:\n",
    "    r = requests.get(url)\n",
    "  except requests.ConnectionError:\n",
    "    print(\"!!! Failed to download data !!!\")\n",
    "  else:\n",
    "    if r.status_code != requests.codes.ok:\n",
    "      print(\"!!! Failed to download data !!!\")\n",
    "    else:\n",
    "      with open(fname, \"wb\") as fid:\n",
    "        fid.write(r.content)"
   ]
  },
  {
   "attachments": {},
   "cell_type": "markdown",
   "metadata": {},
   "source": [
    "#### Figure Setup"
   ]
  },
  {
   "cell_type": "code",
   "execution_count": 3,
   "metadata": {},
   "outputs": [],
   "source": [
    "rcParams['figure.figsize'] = [20, 4]\n",
    "rcParams['font.size'] = 15\n",
    "rcParams['axes.spines.top'] = False\n",
    "rcParams['axes.spines.right'] = False\n",
    "rcParams['figure.autolayout'] = True"
   ]
  },
  {
   "cell_type": "code",
   "execution_count": 4,
   "metadata": {},
   "outputs": [],
   "source": [
    "class process():\n",
    "    def __init__():\n",
    "        return\n",
    "\n",
    "    def preprocess(data):\n",
    "        V = data['V'].astype('float32')\n",
    "        b, a = signal.butter(3, [50], btype = 'high', fs=1000)\n",
    "        V = signal.filtfilt(b,a,V,0)\n",
    "        V = np.abs(V)**2\n",
    "        b, a = signal.butter(3, [10], btype = 'low', fs=1000)\n",
    "        V = signal.filtfilt(b,a,V,0)\n",
    "        V = V/V.mean(0)\n",
    "        return V\n",
    "\n",
    "class plots():\n",
    "    def __init__():\n",
    "        return\n",
    "\n",
    "    def singlechannel1(data, channel, trange):\n",
    "        plt.figure(figsize=(20,10))\n",
    "        plt.plot(trange, data[:,channel])\n",
    "        plt.title('ch%d'%channel)\n",
    "        plt.xticks([0, 1000, 2000])\n",
    "        plt.ylim([0, 4])\n",
    "\n",
    "    def singlechannel2(data, data2, channel, trange):\n",
    "        plt.figure(figsize=(20,10))\n",
    "        plt.plot(trange, data[:,channel])\n",
    "        plt.plot(trange, data2[:,channel])\n",
    "        plt.title('ch%d'%channel)\n",
    "        plt.xticks([0, 1000, 2000])\n",
    "        plt.ylim([0, 4])\n",
    "\n",
    "    def all_channels1(data, trange):\n",
    "        plt.figure(figsize=(20,10))\n",
    "        for j in range(46):\n",
    "            ax = plt.subplot(5,10,j+1)\n",
    "            plt.plot(trange, data[:,j])\n",
    "            plt.title('ch%d'%j)\n",
    "            plt.xticks([0, 1000, 2000])\n",
    "            plt.ylim([0, 4])\n",
    "\n",
    "    def all_channels2(data, data2, trange):\n",
    "        plt.figure(figsize=(20,10))\n",
    "        for j in range(46):\n",
    "            ax = plt.subplot(5,10,j+1)\n",
    "            plt.plot(trange, data[:,j])\n",
    "            plt.plot(trange, data2[:,j])\n",
    "            plt.title('ch%d'%j)\n",
    "            plt.xticks([0, 1000, 2000])\n",
    "            plt.ylim([0, 4])"
   ]
  },
  {
   "attachments": {},
   "cell_type": "markdown",
   "metadata": {},
   "source": [
    "## Manipulating the Dataset"
   ]
  },
  {
   "cell_type": "code",
   "execution_count": 5,
   "metadata": {},
   "outputs": [
    {
     "data": {
      "text/plain": [
       "dict_keys(['t_off', 'stim_id', 't_on', 'srate', 'V', 'scale_uv', 'locs', 'hemisphere', 'lobe', 'gyrus', 'Brodmann_Area'])"
      ]
     },
     "execution_count": 5,
     "metadata": {},
     "output_type": "execute_result"
    }
   ],
   "source": [
    "AllData = np.load(fname, allow_pickle= True)['dat']\n",
    "\n",
    "AllData[0][0].keys()"
   ]
  },
  {
   "cell_type": "code",
   "execution_count": 6,
   "metadata": {},
   "outputs": [
    {
     "name": "stdout",
     "output_type": "stream",
     "text": [
      "1000\n",
      "1000\n",
      "1000\n",
      "1000\n",
      "1000\n",
      "1000\n",
      "1000\n",
      "1000\n",
      "1000\n",
      "1000\n",
      "1000\n",
      "1000\n",
      "1000\n",
      "1000\n"
     ]
    }
   ],
   "source": [
    "# Checking srate for every subject:\n",
    "for i in range(7):\n",
    "    for j in range(2):\n",
    "        print(AllData[i][j]['srate'])"
   ]
  },
  {
   "attachments": {},
   "cell_type": "markdown",
   "metadata": {},
   "source": [
    "This is how we access subject 0 and experiment 0 (real movement)"
   ]
  },
  {
   "cell_type": "code",
   "execution_count": 7,
   "metadata": {},
   "outputs": [],
   "source": [
    "RealPatientZero = AllData[0][0]"
   ]
  },
  {
   "attachments": {},
   "cell_type": "markdown",
   "metadata": {},
   "source": [
    "We store all the real trials in an array called RealPatients which holds 7 different participants real trials."
   ]
  },
  {
   "cell_type": "code",
   "execution_count": 8,
   "metadata": {},
   "outputs": [],
   "source": [
    "RealPatients = []\n",
    "\n",
    "for i in range(7):\n",
    "    RealPatients.append(process.preprocess(AllData[i][0]))\n",
    "\n",
    "realDataV = []\n",
    "\n",
    "for i in range(7):\n",
    "    realDataV.append(RealPatients[i])"
   ]
  },
  {
   "attachments": {},
   "cell_type": "markdown",
   "metadata": {},
   "source": [
    "This is how we access subject 0 and experiment 1 (imagined movement)"
   ]
  },
  {
   "cell_type": "code",
   "execution_count": 9,
   "metadata": {},
   "outputs": [],
   "source": [
    "ImaginaryPatientZero = AllData[0][1]"
   ]
  },
  {
   "attachments": {},
   "cell_type": "markdown",
   "metadata": {},
   "source": [
    "We also create an array for the imaginary participants called ImaginaryPatients"
   ]
  },
  {
   "cell_type": "code",
   "execution_count": 10,
   "metadata": {},
   "outputs": [
    {
     "data": {
      "text/plain": [
       "(7, (376400, 46))"
      ]
     },
     "execution_count": 10,
     "metadata": {},
     "output_type": "execute_result"
    }
   ],
   "source": [
    "ImaginaryPatients = []\n",
    "\n",
    "for i in range(7):\n",
    "    ImaginaryPatients.append(AllData[i][0])\n",
    "\n",
    "ImaginaryDataV = []\n",
    "\n",
    "for i in range(7):\n",
    "    ImaginaryDataV.append(ImaginaryPatients[i]['V'])\n",
    "\n",
    "len(ImaginaryDataV), ImaginaryDataV[0].shape"
   ]
  },
  {
   "cell_type": "code",
   "execution_count": 11,
   "metadata": {},
   "outputs": [],
   "source": [
    "iDATA = []\n",
    "rDATA = []"
   ]
  },
  {
   "cell_type": "code",
   "execution_count": 12,
   "metadata": {},
   "outputs": [],
   "source": [
    "alldat = np.load(fname, allow_pickle=True)['dat']\n",
    "\n",
    "for trial_i in range(7):\n",
    "    real = alldat[trial_i][0]\n",
    "    imagine = alldat[trial_i][1]\n",
    "\n",
    "    processed_real = process.preprocess(real)\n",
    "    nt_pr, nchan_pr = processed_real.shape\n",
    "    nstim_r = len(real['t_on'])\n",
    "\n",
    "    trange = np.arange(0, 2000)\n",
    "    ts = real['t_on'][:,np.newaxis] + trange\n",
    "\n",
    "    V_epochs_pr = np.reshape(processed_real[ts, :], (nstim_r, 2000, nchan_pr))\n",
    "\n",
    "    V_hand_real = (V_epochs_pr[real['stim_id']==12])  #Change this to 11 to get tongue data and 12 to get hand data\n",
    "\n",
    "    ##### This is the voltage data and you could change the trial from here\n",
    "    hand_real_data = V_hand_real.mean(0)\n",
    "\n",
    "    processed_imagine = process.preprocess(imagine)\n",
    "    nt_pi, nchan_pi = processed_imagine.shape\n",
    "    nstim_i = len(imagine['t_on'])\n",
    "\n",
    "    trange = np.arange(0, 2000)\n",
    "    ts = imagine['t_on'][:,np.newaxis] + trange\n",
    "\n",
    "    V_epochs_pi = np.reshape(processed_imagine[ts, :], (nstim_i, 2000, nchan_pi))\n",
    "\n",
    "    V_hand_imagine = (V_epochs_pi[imagine['stim_id']==12])\n",
    "\n",
    "    \n",
    "    iDATA.append(V_hand_imagine)\n",
    "    rDATA.append(V_hand_real)\n",
    "    "
   ]
  },
  {
   "cell_type": "code",
   "execution_count": 13,
   "metadata": {},
   "outputs": [
    {
     "data": {
      "text/plain": [
       "(7, 30, 2000, 46)"
      ]
     },
     "execution_count": 13,
     "metadata": {},
     "output_type": "execute_result"
    }
   ],
   "source": [
    "len(rDATA), len(rDATA[0]),len(rDATA[0][0]),len(rDATA[0][0][0])"
   ]
  },
  {
   "cell_type": "code",
   "execution_count": 14,
   "metadata": {},
   "outputs": [],
   "source": [
    "final_real_data = []\n",
    "final_imagine_data = []"
   ]
  },
  {
   "cell_type": "code",
   "execution_count": 15,
   "metadata": {},
   "outputs": [],
   "source": [
    "for i in range(7):\n",
    "    final_real_data.append(rDATA[i])\n",
    "    final_imagine_data.append(iDATA[i])"
   ]
  },
  {
   "cell_type": "code",
   "execution_count": 16,
   "metadata": {},
   "outputs": [
    {
     "data": {
      "text/plain": [
       "array([1.03239824, 2.08178703, 0.79472739, 1.10901149, 1.89969475,\n",
       "       0.90590056, 0.80710954, 0.56184027, 0.99856583, 1.23112589,\n",
       "       0.86497863, 1.09916753, 0.54918217, 0.67019065, 0.68971726,\n",
       "       0.80735245, 0.95976788, 1.29400689, 0.62806574, 0.57623688,\n",
       "       2.14236454, 0.81784859, 0.755451  , 1.00035404, 0.56814874,\n",
       "       0.9553773 , 0.88511778, 1.29314685, 0.59411733, 0.75333447,\n",
       "       0.81986413, 1.22171091, 1.25822405, 0.81730836, 0.7042236 ,\n",
       "       0.68111666, 0.88612524, 2.16607492, 2.28988278, 1.99909424,\n",
       "       0.57125939, 0.69193822, 1.02849613, 0.93985631, 1.5605287 ,\n",
       "       0.95993965])"
      ]
     },
     "execution_count": 16,
     "metadata": {},
     "output_type": "execute_result"
    }
   ],
   "source": [
    "final_real_data[0][0][0]"
   ]
  },
  {
   "attachments": {},
   "cell_type": "markdown",
   "metadata": {},
   "source": [
    "## Preprocessing"
   ]
  },
  {
   "cell_type": "code",
   "execution_count": 17,
   "metadata": {},
   "outputs": [
    {
     "ename": "NameError",
     "evalue": "name 'V_tongue' is not defined",
     "output_type": "error",
     "traceback": [
      "\u001b[1;31m---------------------------------------------------------------------------\u001b[0m",
      "\u001b[1;31mNameError\u001b[0m                                 Traceback (most recent call last)",
      "Cell \u001b[1;32mIn[17], line 7\u001b[0m\n\u001b[0;32m      5\u001b[0m \u001b[39mfor\u001b[39;00m j \u001b[39min\u001b[39;00m \u001b[39mrange\u001b[39m(\u001b[39m46\u001b[39m):\n\u001b[0;32m      6\u001b[0m   ax \u001b[39m=\u001b[39m plt\u001b[39m.\u001b[39msubplot(\u001b[39m5\u001b[39m, \u001b[39m10\u001b[39m, j\u001b[39m+\u001b[39m\u001b[39m1\u001b[39m)\n\u001b[1;32m----> 7\u001b[0m   plt\u001b[39m.\u001b[39mplot(trange, V_tongue[:, j])\n\u001b[0;32m      8\u001b[0m   plt\u001b[39m.\u001b[39mplot(trange, V_hand[:, j])\n\u001b[0;32m      9\u001b[0m   plt\u001b[39m.\u001b[39mtitle(\u001b[39m'\u001b[39m\u001b[39mch\u001b[39m\u001b[39m%d\u001b[39;00m\u001b[39m'\u001b[39m\u001b[39m%\u001b[39mj)\n",
      "\u001b[1;31mNameError\u001b[0m: name 'V_tongue' is not defined"
     ]
    },
    {
     "data": {
      "image/png": "[encoded data removed]",
      "text/plain": [
       "<Figure size 2000x1000 with 1 Axes>"
      ]
     },
     "metadata": {},
     "output_type": "display_data"
    }
   ],
   "source": [
    "# let's find the electrodes that distinguish tongue from hand movements\n",
    "# note the behaviors happen some time after the visual cue\n",
    "\n",
    "plt.figure(figsize=(20, 10))\n",
    "for j in range(46):\n",
    "  ax = plt.subplot(5, 10, j+1)\n",
    "  plt.plot(trange, V_tongue[:, j])\n",
    "  plt.plot(trange, V_hand[:, j])\n",
    "  plt.title('ch%d'%j)\n",
    "  plt.xticks([0, 1000, 2000])\n",
    "  plt.ylim([0, 4])\n",
    "plt.show()"
   ]
  },
  {
   "cell_type": "code",
   "execution_count": null,
   "metadata": {},
   "outputs": [],
   "source": [
    "isort = np.argsort(data1['stim_id'])\n",
    "\n",
    "V_epochs[isort, :, 20].shape"
   ]
  },
  {
   "cell_type": "code",
   "execution_count": null,
   "metadata": {},
   "outputs": [],
   "source": [
    "# let's look at all the trials for electrode 20 that has a good response to hand movements\n",
    "# we will sort trials by stimulus id\n",
    "plt.subplot(1, 3, 1)\n",
    "isort = np.argsort(data1['stim_id'])\n",
    "plt.imshow(V_epochs[isort, :, 20].astype('float32'),\n",
    "           aspect='auto',\n",
    "           vmax=7, vmin=0,\n",
    "           cmap='magma')\n",
    "plt.colorbar()\n",
    "plt.show()"
   ]
  },
  {
   "cell_type": "code",
   "execution_count": null,
   "metadata": {},
   "outputs": [],
   "source": [
    "# Electrode 42 seems to respond to tongue movements\n",
    "isort = np.argsort(data1['stim_id'])\n",
    "plt.subplot(1, 3, 1)\n",
    "plt.imshow(V_epochs[isort, :, 42].astype('float32'),\n",
    "           aspect='auto',\n",
    "           vmax=7, vmin=0,\n",
    "           cmap='magma')\n",
    "plt.colorbar()\n",
    "plt.show()"
   ]
  },
  {
   "attachments": {},
   "cell_type": "markdown",
   "metadata": {},
   "source": [
    "## OLD METHOD"
   ]
  },
  {
   "cell_type": "code",
   "execution_count": 31,
   "metadata": {},
   "outputs": [],
   "source": [
    "alldat = np.load(fname, allow_pickle=True)['dat']\n",
    "\n",
    "real = alldat[0][0]\n",
    "imagine = alldat[0][1]"
   ]
  },
  {
   "cell_type": "code",
   "execution_count": 37,
   "metadata": {},
   "outputs": [],
   "source": [
    "processed_real = process.preprocess(real)\n",
    "nt_pr, nchan_pr = processed_real.shape\n",
    "nstim_r = len(real['t_on'])\n",
    "\n",
    "trange = np.arange(0, 2000)\n",
    "ts = real['t_on'][:,np.newaxis] + trange\n",
    "\n",
    "V_epochs_pr = np.reshape(processed_real[ts, :], (nstim_r, 2000, nchan_pr))\n",
    "\n",
    "V_hand_real = (V_epochs_pr[real['stim_id']==12])  #Change this to 11 to get tongue data and 12 to get hand data\n",
    "\n",
    "##### This is the voltage data and you could change the trial from here\n",
    "hand_real_data = V_hand_real.mean(0)\n",
    "\n",
    "processed_imagine = process.preprocess(imagine)\n",
    "nt_pi, nchan_pi = processed_imagine.shape\n",
    "nstim_i = len(imagine['t_on'])\n",
    "\n",
    "trange = np.arange(0, 2000)\n",
    "ts = imagine['t_on'][:,np.newaxis] + trange\n",
    "\n",
    "V_epochs_pi = np.reshape(processed_imagine[ts, :], (nstim_i, 2000, nchan_pi))\n",
    "\n",
    "V_hand_imagine = (V_epochs_pi[imagine['stim_id']==12])\n",
    "\n",
    "##### This is the voltage data and you could change the trial from here\n",
    "hand_imagine_data = V_hand_imagine.mean(0)\n",
    "hand_real_data = V_hand_real.mean(0)"
   ]
  },
  {
   "attachments": {},
   "cell_type": "markdown",
   "metadata": {},
   "source": [
    "### Variable"
   ]
  },
  {
   "cell_type": "code",
   "execution_count": 38,
   "metadata": {},
   "outputs": [
    {
     "data": {
      "text/plain": [
       "(array([[ 0.47885706, -1.32819323,  0.92880269, ...,  0.15265989,\n",
       "          2.16625328,  3.09489014],\n",
       "        [ 0.51597095, -1.16681033,  1.20569616, ...,  0.30020882,\n",
       "          2.46298703,  3.51258437],\n",
       "        [ 0.55365299, -1.00826717,  1.48775263, ...,  0.44943319,\n",
       "          2.76920687,  3.94293351],\n",
       "        ...,\n",
       "        [ 0.82191123,  0.38873177,  1.18885365, ...,  0.68158886,\n",
       "          0.43002565,  0.588227  ],\n",
       "        [ 0.82102839,  0.38814852,  1.18862379, ...,  0.68031834,\n",
       "          0.42931421,  0.58784019],\n",
       "        [ 0.82027876,  0.38765728,  1.18838001, ...,  0.67926009,\n",
       "          0.42872031,  0.58749721]]),\n",
       " 376400,\n",
       " 46,\n",
       " 60,\n",
       " array([   0,    1,    2, ..., 1997, 1998, 1999]),\n",
       " array([[ 10160,  10161,  10162, ...,  12157,  12158,  12159],\n",
       "        [ 16160,  16161,  16162, ...,  18157,  18158,  18159],\n",
       "        [ 22160,  22161,  22162, ...,  24157,  24158,  24159],\n",
       "        ...,\n",
       "        [354640, 354641, 354642, ..., 356637, 356638, 356639],\n",
       "        [360640, 360641, 360642, ..., 362637, 362638, 362639],\n",
       "        [366640, 366641, 366642, ..., 368637, 368638, 368639]], dtype=int64),\n",
       " array([[[1.03239824, 2.08178703, 0.79472739, ..., 0.93985631,\n",
       "          1.5605287 , 0.95993965],\n",
       "         [1.03252003, 2.05635799, 0.79412391, ..., 0.93808527,\n",
       "          1.56011052, 0.97469385],\n",
       "         [1.03232262, 2.03121664, 0.79408847, ..., 0.93617379,\n",
       "          1.55926123, 0.98939462],\n",
       "         ...,\n",
       "         [0.58633759, 1.33888816, 1.5196949 , ..., 1.11650211,\n",
       "          1.80673885, 0.79530669],\n",
       "         [0.58099188, 1.32820479, 1.49424012, ..., 1.11764887,\n",
       "          1.79386666, 0.79505026],\n",
       "         [0.57568396, 1.31743287, 1.46867311, ..., 1.119119  ,\n",
       "          1.77982419, 0.79589185]],\n",
       " \n",
       "        [[0.91997634, 0.9021236 , 1.04112229, ..., 1.25907677,\n",
       "          1.03795198, 0.83678798],\n",
       "         [0.92124544, 0.89603622, 1.04965135, ..., 1.25797712,\n",
       "          1.04196172, 0.84543885],\n",
       "         [0.92258212, 0.88973869, 1.0586183 , ..., 1.25595122,\n",
       "          1.04500122, 0.8540241 ],\n",
       "         ...,\n",
       "         [0.35918222, 0.90445972, 1.21099095, ..., 1.63285724,\n",
       "          1.21504006, 0.67808357],\n",
       "         [0.35755479, 0.90625229, 1.21814532, ..., 1.63202877,\n",
       "          1.20057828, 0.68092598],\n",
       "         [0.35636516, 0.90781702, 1.22490572, ..., 1.63018332,\n",
       "          1.18647911, 0.68443804]],\n",
       " \n",
       "        [[0.80914753, 2.05104837, 1.02992311, ..., 1.63561598,\n",
       "          0.5577858 , 1.59142474],\n",
       "         [0.80791782, 2.07475853, 1.02887362, ..., 1.62425765,\n",
       "          0.55563167, 1.60902652],\n",
       "         [0.80616298, 2.09676797, 1.02746926, ..., 1.61215347,\n",
       "          0.55332877, 1.62495944],\n",
       "         ...,\n",
       "         [1.65178201, 0.62013692, 0.97861897, ..., 0.70231892,\n",
       "          0.69779267, 3.13111139],\n",
       "         [1.64954829, 0.62040339, 0.97779483, ..., 0.6993253 ,\n",
       "          0.70953781, 3.12608838],\n",
       "         [1.64638183, 0.62100479, 0.97718293, ..., 0.69702094,\n",
       "          0.72117244, 3.11899983]],\n",
       " \n",
       "        ...,\n",
       " \n",
       "        [[0.74658292, 2.22137085, 1.03133032, ..., 1.32767025,\n",
       "          1.05597434, 1.00744359],\n",
       "         [0.72536836, 2.22057011, 1.03403114, ..., 1.35090197,\n",
       "          1.08266898, 1.00321585],\n",
       "         [0.70516537, 2.21829418, 1.03647726, ..., 1.37364619,\n",
       "          1.1106125 , 0.99935941],\n",
       "         ...,\n",
       "         [0.36968034, 0.82911289, 0.91417527, ..., 0.58867364,\n",
       "          2.58130141, 1.43791731],\n",
       "         [0.36717849, 0.80686228, 0.90348659, ..., 0.58833065,\n",
       "          2.57003753, 1.41678685],\n",
       "         [0.36475783, 0.78474883, 0.89271903, ..., 0.58794974,\n",
       "          2.55706749, 1.39501342]],\n",
       " \n",
       "        [[0.91125117, 0.93929867, 0.88974613, ..., 0.50462218,\n",
       "          1.02737563, 2.42109108],\n",
       "         [0.91973972, 0.92397455, 0.88598749, ..., 0.50179458,\n",
       "          1.03185562, 2.38972873],\n",
       "         [0.92828559, 0.90905179, 0.88210572, ..., 0.49940044,\n",
       "          1.03564386, 2.356468  ],\n",
       "         ...,\n",
       "         [1.11762608, 1.65728004, 1.33395719, ..., 0.86185034,\n",
       "          1.24651362, 0.45916455],\n",
       "         [1.11464569, 1.63155714, 1.31962314, ..., 0.85630082,\n",
       "          1.23955937, 0.45827521],\n",
       "         [1.11231783, 1.60458788, 1.30518369, ..., 0.85062401,\n",
       "          1.23294732, 0.4580104 ]],\n",
       " \n",
       "        [[1.88537848, 0.65064732, 0.9699159 , ..., 1.0217928 ,\n",
       "          1.43070696, 0.97801757],\n",
       "         [1.88461627, 0.6528605 , 0.98805473, ..., 1.02528096,\n",
       "          1.42737337, 0.97585017],\n",
       "         [1.88307248, 0.65578238, 1.00711745, ..., 1.02940408,\n",
       "          1.42332304, 0.97392958],\n",
       "         ...,\n",
       "         [0.88521212, 0.95088814, 0.7253222 , ..., 0.85140736,\n",
       "          0.54698149, 0.71642027],\n",
       "         [0.8733587 , 0.94794772, 0.72206903, ..., 0.83771455,\n",
       "          0.54595698, 0.7281224 ],\n",
       "         [0.86168489, 0.9448228 , 0.71860587, ..., 0.8240016 ,\n",
       "          0.54489608, 0.74008732]]]),\n",
       " array([[[1.03239824, 2.08178703, 0.79472739, ..., 0.93985631,\n",
       "          1.5605287 , 0.95993965],\n",
       "         [1.03252003, 2.05635799, 0.79412391, ..., 0.93808527,\n",
       "          1.56011052, 0.97469385],\n",
       "         [1.03232262, 2.03121664, 0.79408847, ..., 0.93617379,\n",
       "          1.55926123, 0.98939462],\n",
       "         ...,\n",
       "         [0.58633759, 1.33888816, 1.5196949 , ..., 1.11650211,\n",
       "          1.80673885, 0.79530669],\n",
       "         [0.58099188, 1.32820479, 1.49424012, ..., 1.11764887,\n",
       "          1.79386666, 0.79505026],\n",
       "         [0.57568396, 1.31743287, 1.46867311, ..., 1.119119  ,\n",
       "          1.77982419, 0.79589185]],\n",
       " \n",
       "        [[0.91997634, 0.9021236 , 1.04112229, ..., 1.25907677,\n",
       "          1.03795198, 0.83678798],\n",
       "         [0.92124544, 0.89603622, 1.04965135, ..., 1.25797712,\n",
       "          1.04196172, 0.84543885],\n",
       "         [0.92258212, 0.88973869, 1.0586183 , ..., 1.25595122,\n",
       "          1.04500122, 0.8540241 ],\n",
       "         ...,\n",
       "         [0.35918222, 0.90445972, 1.21099095, ..., 1.63285724,\n",
       "          1.21504006, 0.67808357],\n",
       "         [0.35755479, 0.90625229, 1.21814532, ..., 1.63202877,\n",
       "          1.20057828, 0.68092598],\n",
       "         [0.35636516, 0.90781702, 1.22490572, ..., 1.63018332,\n",
       "          1.18647911, 0.68443804]],\n",
       " \n",
       "        [[0.80914753, 2.05104837, 1.02992311, ..., 1.63561598,\n",
       "          0.5577858 , 1.59142474],\n",
       "         [0.80791782, 2.07475853, 1.02887362, ..., 1.62425765,\n",
       "          0.55563167, 1.60902652],\n",
       "         [0.80616298, 2.09676797, 1.02746926, ..., 1.61215347,\n",
       "          0.55332877, 1.62495944],\n",
       "         ...,\n",
       "         [1.65178201, 0.62013692, 0.97861897, ..., 0.70231892,\n",
       "          0.69779267, 3.13111139],\n",
       "         [1.64954829, 0.62040339, 0.97779483, ..., 0.6993253 ,\n",
       "          0.70953781, 3.12608838],\n",
       "         [1.64638183, 0.62100479, 0.97718293, ..., 0.69702094,\n",
       "          0.72117244, 3.11899983]],\n",
       " \n",
       "        ...,\n",
       " \n",
       "        [[1.63473273, 0.65047402, 1.01466996, ..., 1.04867466,\n",
       "          0.43335936, 1.09256327],\n",
       "         [1.60717158, 0.65462553, 1.02927878, ..., 1.04264177,\n",
       "          0.43604235, 1.08628688],\n",
       "         [1.57972543, 0.65846034, 1.04348182, ..., 1.03697465,\n",
       "          0.43908741, 1.08058509],\n",
       "         ...,\n",
       "         [0.78863704, 0.74259852, 0.66355397, ..., 0.73975732,\n",
       "          1.33146762, 0.8833841 ],\n",
       "         [0.7871951 , 0.75269701, 0.66752016, ..., 0.73542413,\n",
       "          1.3563265 , 0.87957851],\n",
       "         [0.78563887, 0.76354745, 0.67184229, ..., 0.73105425,\n",
       "          1.38174995, 0.87555577]],\n",
       " \n",
       "        [[0.81737761, 0.5224553 , 1.46995652, ..., 0.71592185,\n",
       "          0.4684502 , 0.6230199 ],\n",
       "         [0.81176825, 0.5254497 , 1.49423408, ..., 0.7225775 ,\n",
       "          0.4636655 , 0.63735429],\n",
       "         [0.80633623, 0.52877507, 1.51808983, ..., 0.72952044,\n",
       "          0.45969577, 0.65269751],\n",
       "         ...,\n",
       "         [0.85207833, 0.98030307, 1.07540756, ..., 0.70755215,\n",
       "          0.79370454, 0.86685687],\n",
       "         [0.85927111, 0.99952684, 1.05656156, ..., 0.69646123,\n",
       "          0.78770616, 0.87115584],\n",
       "         [0.86641676, 1.01834238, 1.0384496 , ..., 0.68550684,\n",
       "          0.78176183, 0.87504163]],\n",
       " \n",
       "        [[0.74658292, 2.22137085, 1.03133032, ..., 1.32767025,\n",
       "          1.05597434, 1.00744359],\n",
       "         [0.72536836, 2.22057011, 1.03403114, ..., 1.35090197,\n",
       "          1.08266898, 1.00321585],\n",
       "         [0.70516537, 2.21829418, 1.03647726, ..., 1.37364619,\n",
       "          1.1106125 , 0.99935941],\n",
       "         ...,\n",
       "         [0.36968034, 0.82911289, 0.91417527, ..., 0.58867364,\n",
       "          2.58130141, 1.43791731],\n",
       "         [0.36717849, 0.80686228, 0.90348659, ..., 0.58833065,\n",
       "          2.57003753, 1.41678685],\n",
       "         [0.36475783, 0.78474883, 0.89271903, ..., 0.58794974,\n",
       "          2.55706749, 1.39501342]]]),\n",
       " array([[1.11578521, 0.97014205, 1.01084593, ..., 0.93703946, 0.78095287,\n",
       "         0.82821689],\n",
       "        [1.11056591, 0.97026694, 1.01119614, ..., 0.93744479, 0.78226752,\n",
       "         0.82896635],\n",
       "        [1.10528415, 0.97043093, 1.01153081, ..., 0.93786621, 0.78371414,\n",
       "         0.8298633 ],\n",
       "        ...,\n",
       "        [0.81294455, 0.92778135, 0.90805456, ..., 0.89217059, 1.15001894,\n",
       "         0.91452439],\n",
       "        [0.81232612, 0.924744  , 0.90571499, ..., 0.88967347, 1.15135994,\n",
       "         0.91141663],\n",
       "        [0.81171014, 0.92187629, 0.90346749, ..., 0.88719263, 1.15259926,\n",
       "         0.90836635]]))"
      ]
     },
     "execution_count": 38,
     "metadata": {},
     "output_type": "execute_result"
    }
   ],
   "source": [
    "processed_real, nt_pr, nchan_pr, nstim_r, trange, ts, V_epochs_pr, V_hand_real, hand_real_data"
   ]
  },
  {
   "attachments": {},
   "cell_type": "markdown",
   "metadata": {},
   "source": [
    "### Close"
   ]
  },
  {
   "cell_type": "code",
   "execution_count": null,
   "metadata": {},
   "outputs": [],
   "source": [
    "V_hand_imagine.shape"
   ]
  },
  {
   "cell_type": "code",
   "execution_count": null,
   "metadata": {},
   "outputs": [],
   "source": [
    "plots.all_channels2(hand_real_data, hand_imagine_data, trange)\n",
    "plots.singlechannel1(V_hand_imagine[0], 13, trange)\n",
    "plots.singlechannel2(hand_real_data, hand_imagine_data, 1, trange)"
   ]
  },
  {
   "cell_type": "code",
   "execution_count": null,
   "metadata": {},
   "outputs": [],
   "source": [
    "plots.all_channels1(hand_real_data, trange)"
   ]
  },
  {
   "attachments": {},
   "cell_type": "markdown",
   "metadata": {},
   "source": [
    "## GAN"
   ]
  },
  {
   "cell_type": "code",
   "execution_count": null,
   "metadata": {},
   "outputs": [],
   "source": [
    "import torch\n",
    "import torch.nn as nn\n",
    "from torch.utils import data"
   ]
  },
  {
   "cell_type": "code",
   "execution_count": null,
   "metadata": {},
   "outputs": [],
   "source": [
    "use_cuda = torch.cuda.is_available()\n",
    "device = torch.device(\"cuda:0\" if use_cuda else \"cpu\")\n",
    "torch.backends.cudnn.benchmark = True\n",
    "\n",
    "\n",
    "np.random.seed(1)\n",
    "torch.manual_seed(1)\n",
    "torch.cuda.manual_seed(1)"
   ]
  },
  {
   "cell_type": "code",
   "execution_count": null,
   "metadata": {},
   "outputs": [],
   "source": [
    "#The dataset\n",
    "specify_channel = 20\n",
    "\n",
    "cnn_inputs_real = []\n",
    "for i in range(30):\n",
    "    abc = V_hand_real[i]\n",
    "    cnn_inputs_real.append(abc[:, specify_channel])\n",
    "#cnn_inputs_real is for real data. 1 is the label for real\n",
    "cnn_inputs_real = np.array(cnn_inputs_real)\n",
    "\n",
    "\n",
    "labels_real = np.ones((30))\n",
    "labels_real = labels_real.reshape(30,1)\n",
    "\n",
    "\n",
    "cnn_inputs_imagine = []\n",
    "for i in range(30):\n",
    "    abc = V_hand_imagine[i]\n",
    "    cnn_inputs_imagine.append(abc[:, specify_channel])\n",
    "#cnn_inputs_imagine is for imaginary data. 0 is the label for imaginary\n",
    "cnn_inputs_imagine = np.array(cnn_inputs_imagine)\n",
    "\n",
    "labels_imagine = np.zeros((30))\n",
    "labels_imagine = labels_imagine.reshape(30,1) "
   ]
  },
  {
   "cell_type": "code",
   "execution_count": null,
   "metadata": {},
   "outputs": [],
   "source": [
    "trainX = np.append(cnn_inputs_real[0:20], cnn_inputs_imagine[0:20], axis=0)\n",
    "trainy = np.append(labels_real[0:20], labels_imagine[0:20], axis=0)\n",
    "\n",
    "trainX = trainX.reshape([40,2000,1])\n",
    "\n",
    "testX = np.append(cnn_inputs_real[20:30], cnn_inputs_imagine[20:30], axis=0)\n",
    "testy = np.append(labels_real[20:30], labels_imagine[20:30], axis=0)\n",
    "testX = testX.reshape([20,2000,1])"
   ]
  },
  {
   "cell_type": "code",
   "execution_count": null,
   "metadata": {},
   "outputs": [],
   "source": [
    "class EEGDataset(data.Dataset):\n",
    "    def __init__(self, data, labels):\n",
    "        self.data = data\n",
    "        self.labels = labels\n",
    "\n",
    "    def __len__(self):\n",
    "        return len(self.data)\n",
    "\n",
    "    def __getitem__(self, index):\n",
    "        return self.data[index], self.labels[index]"
   ]
  },
  {
   "cell_type": "code",
   "execution_count": null,
   "metadata": {},
   "outputs": [],
   "source": [
    "dataset = EEGDataset()\n"
   ]
  },
  {
   "attachments": {},
   "cell_type": "markdown",
   "metadata": {},
   "source": [
    "# Delete later"
   ]
  },
  {
   "cell_type": "code",
   "execution_count": null,
   "metadata": {},
   "outputs": [],
   "source": [
    "alldat = np.load(fname, allow_pickle=True)['dat']"
   ]
  },
  {
   "cell_type": "code",
   "execution_count": null,
   "metadata": {},
   "outputs": [],
   "source": [
    "dat1 = alldat[0][0]\n",
    "\n",
    "# V is the voltage data\n",
    "V = dat1['V'].astype('float32')\n",
    "\n",
    "# high-pass filter above 50 Hz\n",
    "b, a = signal.butter(3, [50], btype='high', fs=1000)\n",
    "V = signal.filtfilt(b, a, V, 0)\n",
    "\n",
    "# compute smooth envelope of this signal = approx power\n",
    "V = np.abs(V)**2\n",
    "b, a = signal.butter(3, [10], btype='low', fs=1000)\n",
    "V = signal.filtfilt(b, a, V, 0)\n",
    "\n",
    "# normalize each channel so its mean power is 1\n",
    "V = V/V.mean(0)"
   ]
  },
  {
   "cell_type": "code",
   "execution_count": null,
   "metadata": {},
   "outputs": [],
   "source": [
    "nt, nchan = V.shape\n",
    "nstim = len(dat1['t_on'])\n",
    "\n",
    "trange = np.arange(0, 2000)\n",
    "ts = dat1['t_on'][:, np.newaxis] + trange\n",
    "V_epochs = np.reshape(V[ts, :], (nstim, 2000, nchan))\n",
    "print(V_epochs.shape)\n",
    "\n",
    "V_tongue = (V_epochs[dat1['stim_id'] == 11]).mean(0)\n",
    "V_hand = (V_epochs[dat1['stim_id'] == 12]).mean(0)\n",
    "     "
   ]
  },
  {
   "cell_type": "code",
   "execution_count": null,
   "metadata": {},
   "outputs": [],
   "source": [
    "dat1"
   ]
  },
  {
   "cell_type": "code",
   "execution_count": null,
   "metadata": {},
   "outputs": [],
   "source": [
    "data_items = dat1.items()\n",
    "data1 = list(data_items)\n",
    "data1"
   ]
  },
  {
   "cell_type": "code",
   "execution_count": null,
   "metadata": {},
   "outputs": [],
   "source": [
    "data1 = pd.DataFrame.from_dict(data1,orient='columns')\n",
    "print(data1)"
   ]
  },
  {
   "cell_type": "code",
   "execution_count": null,
   "metadata": {},
   "outputs": [],
   "source": [
    "\n",
    "\n",
    "df1 = pd.DataFrame(columns=data1[0])\n",
    "print(data1[1][5].shape)"
   ]
  },
  {
   "cell_type": "code",
   "execution_count": null,
   "metadata": {},
   "outputs": [],
   "source": [
    "df1['t_off']=(np.ndarray.tolist(data1[1][0]))\n",
    "df1['stim_id']=(np.ndarray.tolist(data1[1][1]))\n",
    "df1['t_on']=(np.ndarray.tolist(data1[1][2]))\n",
    "df1['V'] = (np.ndarray.tolist(V_epochs))\n",
    "df1['scale_uv'] = 1000\n",
    "df1 = df1[['t_on','t_off','stim_id','V']]\n",
    "\n",
    "options = [12]\n",
    "\n",
    "df1 = df1[df1['stim_id'].isin(options)]\n",
    "\n",
    "df1"
   ]
  },
  {
   "cell_type": "code",
   "execution_count": null,
   "metadata": {},
   "outputs": [],
   "source": [
    "\n",
    "df1['V'][0]=[list(x) for x in zip(*df1['V'][0])]\n",
    "\n",
    "\n",
    "for i in df1.index:\n",
    "  if i != 0:\n",
    "    df1['V'][i]=[list(x) for x in zip(*df1['V'][i])]\n",
    "\n",
    "df1"
   ]
  },
  {
   "attachments": {},
   "cell_type": "markdown",
   "metadata": {},
   "source": [
    "## Dataset"
   ]
  },
  {
   "cell_type": "code",
   "execution_count": 18,
   "metadata": {},
   "outputs": [],
   "source": [
    "fname = 'motor_imagery.npz'\n",
    "url = \"https://osf.io/ksqv8/download\"\n",
    "\n",
    "if not os.path.isfile(fname):\n",
    "  try:\n",
    "    r = requests.get(url)\n",
    "  except requests.ConnectionError:\n",
    "    print(\"!!! Failed to download data !!!\")\n",
    "  else:\n",
    "    if r.status_code != requests.codes.ok:\n",
    "      print(\"!!! Failed to download data !!!\")\n",
    "    else:\n",
    "      with open(fname, \"wb\") as fid:\n",
    "        fid.write(r.content)\n",
    "\n",
    "rcParams['figure.figsize'] = [20, 4]\n",
    "rcParams['font.size'] = 15\n",
    "rcParams['axes.spines.top'] = False\n",
    "rcParams['axes.spines.right'] = False\n",
    "rcParams['figure.autolayout'] = True"
   ]
  },
  {
   "cell_type": "code",
   "execution_count": 19,
   "metadata": {},
   "outputs": [],
   "source": [
    "class process():\n",
    "    def __init__():\n",
    "        \"\"\"\n",
    "        This class is used to preprocess the data.\n",
    "        The input is a dict with a key 'V' containing the voltage data.\n",
    "        \"\"\"\n",
    "        return\n",
    "\n",
    "    def preprocess(data):\n",
    "        V = data['V'].astype('float32')\n",
    "        b, a = signal.butter(3, [50], btype='high', fs=1000)\n",
    "        V = signal.filtfilt(b, a, V, 0)\n",
    "        V = np.abs(V)**2\n",
    "        b, a = signal.butter(3, [10], btype='low', fs=1000)\n",
    "        V = signal.filtfilt(b, a, V, 0)\n",
    "        V = V/V.mean(0)\n",
    "        return V\n",
    "\n",
    "class plots():\n",
    "    def __init__():\n",
    "        \"\"\"\n",
    "        For plotting the dataset\n",
    "        \"\"\"\n",
    "        return\n",
    "\n",
    "    def singlechannel1(data, channel, trange):\n",
    "        plt.figure(figsize=(20,10))\n",
    "        plt.plot(trange, data[:,channel])\n",
    "        plt.title('ch%d'%channel)\n",
    "        plt.xticks([0, 1000, 2000])\n",
    "        plt.ylim([0, 4])\n",
    "\n",
    "    def singlechannel2(data, data2, channel, trange):\n",
    "        plt.figure(figsize=(20,10))\n",
    "        plt.plot(trange, data[:,channel])\n",
    "        plt.plot(trange, data2[:,channel])\n",
    "        plt.title('ch%d'%channel)\n",
    "        plt.xticks([0, 1000, 2000])\n",
    "        plt.ylim([0, 4])\n",
    "\n",
    "    def all_channels1(data, trange):\n",
    "        plt.figure(figsize=(20,10))\n",
    "        for j in range(46):\n",
    "            ax = plt.subplot(5,10,j+1)\n",
    "            plt.plot(trange, data[:,j])\n",
    "            plt.title('ch%d'%j)\n",
    "            plt.xticks([0, 1000, 2000])\n",
    "            plt.ylim([0, 4])\n",
    "\n",
    "    def all_channels2(data, data2, trange):\n",
    "        plt.figure(figsize=(20,10))\n",
    "        for j in range(46):\n",
    "            ax = plt.subplot(5,10,j+1)\n",
    "            plt.plot(trange, data[:,j])\n",
    "            plt.plot(trange, data2[:,j])\n",
    "            plt.title('ch%d'%j)\n",
    "            plt.xticks([0, 1000, 2000])\n",
    "            plt.ylim([0, 4])"
   ]
  },
  {
   "cell_type": "code",
   "execution_count": 20,
   "metadata": {},
   "outputs": [
    {
     "data": {
      "text/plain": [
       "(numpy.ndarray,\n",
       " 7,\n",
       " (7, 2),\n",
       " dict_keys(['t_off', 'stim_id', 't_on', 'srate', 'V', 'scale_uv', 'locs', 'hemisphere', 'lobe', 'gyrus', 'Brodmann_Area']))"
      ]
     },
     "execution_count": 20,
     "metadata": {},
     "output_type": "execute_result"
    }
   ],
   "source": [
    "DataLoad = np.load(fname, allow_pickle=True)['dat']\n",
    "type(DataLoad), len(DataLoad), DataLoad.shape, DataLoad[0][0].keys()"
   ]
  },
  {
   "cell_type": "code",
   "execution_count": 24,
   "metadata": {},
   "outputs": [
    {
     "name": "stdout",
     "output_type": "stream",
     "text": [
      "(376400, 46)\n"
     ]
    }
   ],
   "source": [
    "for i in range(1):\n",
    "    print(DataLoad[i][0]['V'].shape)\n",
    "    print(DataLoad[i][0]['V'])"
   ]
  },
  {
   "cell_type": "code",
   "execution_count": 26,
   "metadata": {},
   "outputs": [],
   "source": [
    "x = process.preprocess(DataLoad[i][0])"
   ]
  },
  {
   "cell_type": "code",
   "execution_count": 27,
   "metadata": {},
   "outputs": [
    {
     "name": "stdout",
     "output_type": "stream",
     "text": [
      "[[ 0.47885706 -1.32819323  0.92880269 ...  0.15265989  2.16625328\n",
      "   3.09489014]\n",
      " [ 0.51597095 -1.16681033  1.20569616 ...  0.30020882  2.46298703\n",
      "   3.51258437]\n",
      " [ 0.55365299 -1.00826717  1.48775263 ...  0.44943319  2.76920687\n",
      "   3.94293351]\n",
      " ...\n",
      " [ 0.82191123  0.38873177  1.18885365 ...  0.68158886  0.43002565\n",
      "   0.588227  ]\n",
      " [ 0.82102839  0.38814852  1.18862379 ...  0.68031834  0.42931421\n",
      "   0.58784019]\n",
      " [ 0.82027876  0.38765728  1.18838001 ...  0.67926009  0.42872031\n",
      "   0.58749721]]\n"
     ]
    }
   ],
   "source": [
    "for i in range(1):\n",
    "    print(x)"
   ]
  },
  {
   "cell_type": "code",
   "execution_count": 28,
   "metadata": {},
   "outputs": [
    {
     "data": {
      "text/plain": [
       "(376400, 46)"
      ]
     },
     "execution_count": 28,
     "metadata": {},
     "output_type": "execute_result"
    }
   ],
   "source": [
    "x.shape"
   ]
  },
  {
   "cell_type": "code",
   "execution_count": 29,
   "metadata": {},
   "outputs": [],
   "source": [
    "real = DataLoad[0][0]"
   ]
  },
  {
   "cell_type": "code",
   "execution_count": 39,
   "metadata": {},
   "outputs": [],
   "source": [
    "processed_real = process.preprocess(real)\n",
    "nt_pr, nchan_pr = processed_real.shape\n",
    "nstim_r = len(real['t_on'])\n",
    "\n",
    "trange = np.arange(0, 2000)\n",
    "ts = real['t_on'][:,np.newaxis] + trange\n",
    "\n",
    "V_epochs_pr = np.reshape(processed_real[ts, :], (nstim_r, 2000, nchan_pr))\n",
    "\n",
    "V_hand_real = (V_epochs_pr[real['stim_id']==12]) "
   ]
  },
  {
   "cell_type": "code",
   "execution_count": 41,
   "metadata": {},
   "outputs": [
    {
     "data": {
      "text/plain": [
       "array([[[1.03239824, 2.08178703, 0.79472739, ..., 0.93985631,\n",
       "         1.5605287 , 0.95993965],\n",
       "        [1.03252003, 2.05635799, 0.79412391, ..., 0.93808527,\n",
       "         1.56011052, 0.97469385],\n",
       "        [1.03232262, 2.03121664, 0.79408847, ..., 0.93617379,\n",
       "         1.55926123, 0.98939462],\n",
       "        ...,\n",
       "        [0.58633759, 1.33888816, 1.5196949 , ..., 1.11650211,\n",
       "         1.80673885, 0.79530669],\n",
       "        [0.58099188, 1.32820479, 1.49424012, ..., 1.11764887,\n",
       "         1.79386666, 0.79505026],\n",
       "        [0.57568396, 1.31743287, 1.46867311, ..., 1.119119  ,\n",
       "         1.77982419, 0.79589185]],\n",
       "\n",
       "       [[0.91997634, 0.9021236 , 1.04112229, ..., 1.25907677,\n",
       "         1.03795198, 0.83678798],\n",
       "        [0.92124544, 0.89603622, 1.04965135, ..., 1.25797712,\n",
       "         1.04196172, 0.84543885],\n",
       "        [0.92258212, 0.88973869, 1.0586183 , ..., 1.25595122,\n",
       "         1.04500122, 0.8540241 ],\n",
       "        ...,\n",
       "        [0.35918222, 0.90445972, 1.21099095, ..., 1.63285724,\n",
       "         1.21504006, 0.67808357],\n",
       "        [0.35755479, 0.90625229, 1.21814532, ..., 1.63202877,\n",
       "         1.20057828, 0.68092598],\n",
       "        [0.35636516, 0.90781702, 1.22490572, ..., 1.63018332,\n",
       "         1.18647911, 0.68443804]],\n",
       "\n",
       "       [[0.80914753, 2.05104837, 1.02992311, ..., 1.63561598,\n",
       "         0.5577858 , 1.59142474],\n",
       "        [0.80791782, 2.07475853, 1.02887362, ..., 1.62425765,\n",
       "         0.55563167, 1.60902652],\n",
       "        [0.80616298, 2.09676797, 1.02746926, ..., 1.61215347,\n",
       "         0.55332877, 1.62495944],\n",
       "        ...,\n",
       "        [1.65178201, 0.62013692, 0.97861897, ..., 0.70231892,\n",
       "         0.69779267, 3.13111139],\n",
       "        [1.64954829, 0.62040339, 0.97779483, ..., 0.6993253 ,\n",
       "         0.70953781, 3.12608838],\n",
       "        [1.64638183, 0.62100479, 0.97718293, ..., 0.69702094,\n",
       "         0.72117244, 3.11899983]],\n",
       "\n",
       "       ...,\n",
       "\n",
       "       [[0.74658292, 2.22137085, 1.03133032, ..., 1.32767025,\n",
       "         1.05597434, 1.00744359],\n",
       "        [0.72536836, 2.22057011, 1.03403114, ..., 1.35090197,\n",
       "         1.08266898, 1.00321585],\n",
       "        [0.70516537, 2.21829418, 1.03647726, ..., 1.37364619,\n",
       "         1.1106125 , 0.99935941],\n",
       "        ...,\n",
       "        [0.36968034, 0.82911289, 0.91417527, ..., 0.58867364,\n",
       "         2.58130141, 1.43791731],\n",
       "        [0.36717849, 0.80686228, 0.90348659, ..., 0.58833065,\n",
       "         2.57003753, 1.41678685],\n",
       "        [0.36475783, 0.78474883, 0.89271903, ..., 0.58794974,\n",
       "         2.55706749, 1.39501342]],\n",
       "\n",
       "       [[0.91125117, 0.93929867, 0.88974613, ..., 0.50462218,\n",
       "         1.02737563, 2.42109108],\n",
       "        [0.91973972, 0.92397455, 0.88598749, ..., 0.50179458,\n",
       "         1.03185562, 2.38972873],\n",
       "        [0.92828559, 0.90905179, 0.88210572, ..., 0.49940044,\n",
       "         1.03564386, 2.356468  ],\n",
       "        ...,\n",
       "        [1.11762608, 1.65728004, 1.33395719, ..., 0.86185034,\n",
       "         1.24651362, 0.45916455],\n",
       "        [1.11464569, 1.63155714, 1.31962314, ..., 0.85630082,\n",
       "         1.23955937, 0.45827521],\n",
       "        [1.11231783, 1.60458788, 1.30518369, ..., 0.85062401,\n",
       "         1.23294732, 0.4580104 ]],\n",
       "\n",
       "       [[1.88537848, 0.65064732, 0.9699159 , ..., 1.0217928 ,\n",
       "         1.43070696, 0.97801757],\n",
       "        [1.88461627, 0.6528605 , 0.98805473, ..., 1.02528096,\n",
       "         1.42737337, 0.97585017],\n",
       "        [1.88307248, 0.65578238, 1.00711745, ..., 1.02940408,\n",
       "         1.42332304, 0.97392958],\n",
       "        ...,\n",
       "        [0.88521212, 0.95088814, 0.7253222 , ..., 0.85140736,\n",
       "         0.54698149, 0.71642027],\n",
       "        [0.8733587 , 0.94794772, 0.72206903, ..., 0.83771455,\n",
       "         0.54595698, 0.7281224 ],\n",
       "        [0.86168489, 0.9448228 , 0.71860587, ..., 0.8240016 ,\n",
       "         0.54489608, 0.74008732]]])"
      ]
     },
     "execution_count": 41,
     "metadata": {},
     "output_type": "execute_result"
    }
   ],
   "source": [
    "V_epochs_pr"
   ]
  },
  {
   "cell_type": "code",
   "execution_count": 40,
   "metadata": {},
   "outputs": [
    {
     "data": {
      "text/plain": [
       "(array([[ 0.47885706, -1.32819323,  0.92880269, ...,  0.15265989,\n",
       "          2.16625328,  3.09489014],\n",
       "        [ 0.51597095, -1.16681033,  1.20569616, ...,  0.30020882,\n",
       "          2.46298703,  3.51258437],\n",
       "        [ 0.55365299, -1.00826717,  1.48775263, ...,  0.44943319,\n",
       "          2.76920687,  3.94293351],\n",
       "        ...,\n",
       "        [ 0.82191123,  0.38873177,  1.18885365, ...,  0.68158886,\n",
       "          0.43002565,  0.588227  ],\n",
       "        [ 0.82102839,  0.38814852,  1.18862379, ...,  0.68031834,\n",
       "          0.42931421,  0.58784019],\n",
       "        [ 0.82027876,  0.38765728,  1.18838001, ...,  0.67926009,\n",
       "          0.42872031,  0.58749721]]),\n",
       " 376400,\n",
       " 46,\n",
       " 60,\n",
       " array([   0,    1,    2, ..., 1997, 1998, 1999]),\n",
       " array([[ 10160,  10161,  10162, ...,  12157,  12158,  12159],\n",
       "        [ 16160,  16161,  16162, ...,  18157,  18158,  18159],\n",
       "        [ 22160,  22161,  22162, ...,  24157,  24158,  24159],\n",
       "        ...,\n",
       "        [354320, 354321, 354322, ..., 356317, 356318, 356319],\n",
       "        [360360, 360361, 360362, ..., 362357, 362358, 362359],\n",
       "        [366440, 366441, 366442, ..., 368437, 368438, 368439]], dtype=int64),\n",
       " array([[[1.03239824, 2.08178703, 0.79472739, ..., 0.93985631,\n",
       "          1.5605287 , 0.95993965],\n",
       "         [1.03252003, 2.05635799, 0.79412391, ..., 0.93808527,\n",
       "          1.56011052, 0.97469385],\n",
       "         [1.03232262, 2.03121664, 0.79408847, ..., 0.93617379,\n",
       "          1.55926123, 0.98939462],\n",
       "         ...,\n",
       "         [0.58633759, 1.33888816, 1.5196949 , ..., 1.11650211,\n",
       "          1.80673885, 0.79530669],\n",
       "         [0.58099188, 1.32820479, 1.49424012, ..., 1.11764887,\n",
       "          1.79386666, 0.79505026],\n",
       "         [0.57568396, 1.31743287, 1.46867311, ..., 1.119119  ,\n",
       "          1.77982419, 0.79589185]],\n",
       " \n",
       "        [[0.91997634, 0.9021236 , 1.04112229, ..., 1.25907677,\n",
       "          1.03795198, 0.83678798],\n",
       "         [0.92124544, 0.89603622, 1.04965135, ..., 1.25797712,\n",
       "          1.04196172, 0.84543885],\n",
       "         [0.92258212, 0.88973869, 1.0586183 , ..., 1.25595122,\n",
       "          1.04500122, 0.8540241 ],\n",
       "         ...,\n",
       "         [0.35918222, 0.90445972, 1.21099095, ..., 1.63285724,\n",
       "          1.21504006, 0.67808357],\n",
       "         [0.35755479, 0.90625229, 1.21814532, ..., 1.63202877,\n",
       "          1.20057828, 0.68092598],\n",
       "         [0.35636516, 0.90781702, 1.22490572, ..., 1.63018332,\n",
       "          1.18647911, 0.68443804]],\n",
       " \n",
       "        [[0.80914753, 2.05104837, 1.02992311, ..., 1.63561598,\n",
       "          0.5577858 , 1.59142474],\n",
       "         [0.80791782, 2.07475853, 1.02887362, ..., 1.62425765,\n",
       "          0.55563167, 1.60902652],\n",
       "         [0.80616298, 2.09676797, 1.02746926, ..., 1.61215347,\n",
       "          0.55332877, 1.62495944],\n",
       "         ...,\n",
       "         [1.65178201, 0.62013692, 0.97861897, ..., 0.70231892,\n",
       "          0.69779267, 3.13111139],\n",
       "         [1.64954829, 0.62040339, 0.97779483, ..., 0.6993253 ,\n",
       "          0.70953781, 3.12608838],\n",
       "         [1.64638183, 0.62100479, 0.97718293, ..., 0.69702094,\n",
       "          0.72117244, 3.11899983]],\n",
       " \n",
       "        ...,\n",
       " \n",
       "        [[0.74658292, 2.22137085, 1.03133032, ..., 1.32767025,\n",
       "          1.05597434, 1.00744359],\n",
       "         [0.72536836, 2.22057011, 1.03403114, ..., 1.35090197,\n",
       "          1.08266898, 1.00321585],\n",
       "         [0.70516537, 2.21829418, 1.03647726, ..., 1.37364619,\n",
       "          1.1106125 , 0.99935941],\n",
       "         ...,\n",
       "         [0.36968034, 0.82911289, 0.91417527, ..., 0.58867364,\n",
       "          2.58130141, 1.43791731],\n",
       "         [0.36717849, 0.80686228, 0.90348659, ..., 0.58833065,\n",
       "          2.57003753, 1.41678685],\n",
       "         [0.36475783, 0.78474883, 0.89271903, ..., 0.58794974,\n",
       "          2.55706749, 1.39501342]],\n",
       " \n",
       "        [[0.91125117, 0.93929867, 0.88974613, ..., 0.50462218,\n",
       "          1.02737563, 2.42109108],\n",
       "         [0.91973972, 0.92397455, 0.88598749, ..., 0.50179458,\n",
       "          1.03185562, 2.38972873],\n",
       "         [0.92828559, 0.90905179, 0.88210572, ..., 0.49940044,\n",
       "          1.03564386, 2.356468  ],\n",
       "         ...,\n",
       "         [1.11762608, 1.65728004, 1.33395719, ..., 0.86185034,\n",
       "          1.24651362, 0.45916455],\n",
       "         [1.11464569, 1.63155714, 1.31962314, ..., 0.85630082,\n",
       "          1.23955937, 0.45827521],\n",
       "         [1.11231783, 1.60458788, 1.30518369, ..., 0.85062401,\n",
       "          1.23294732, 0.4580104 ]],\n",
       " \n",
       "        [[1.88537848, 0.65064732, 0.9699159 , ..., 1.0217928 ,\n",
       "          1.43070696, 0.97801757],\n",
       "         [1.88461627, 0.6528605 , 0.98805473, ..., 1.02528096,\n",
       "          1.42737337, 0.97585017],\n",
       "         [1.88307248, 0.65578238, 1.00711745, ..., 1.02940408,\n",
       "          1.42332304, 0.97392958],\n",
       "         ...,\n",
       "         [0.88521212, 0.95088814, 0.7253222 , ..., 0.85140736,\n",
       "          0.54698149, 0.71642027],\n",
       "         [0.8733587 , 0.94794772, 0.72206903, ..., 0.83771455,\n",
       "          0.54595698, 0.7281224 ],\n",
       "         [0.86168489, 0.9448228 , 0.71860587, ..., 0.8240016 ,\n",
       "          0.54489608, 0.74008732]]]),\n",
       " array([[[1.03239824, 2.08178703, 0.79472739, ..., 0.93985631,\n",
       "          1.5605287 , 0.95993965],\n",
       "         [1.03252003, 2.05635799, 0.79412391, ..., 0.93808527,\n",
       "          1.56011052, 0.97469385],\n",
       "         [1.03232262, 2.03121664, 0.79408847, ..., 0.93617379,\n",
       "          1.55926123, 0.98939462],\n",
       "         ...,\n",
       "         [0.58633759, 1.33888816, 1.5196949 , ..., 1.11650211,\n",
       "          1.80673885, 0.79530669],\n",
       "         [0.58099188, 1.32820479, 1.49424012, ..., 1.11764887,\n",
       "          1.79386666, 0.79505026],\n",
       "         [0.57568396, 1.31743287, 1.46867311, ..., 1.119119  ,\n",
       "          1.77982419, 0.79589185]],\n",
       " \n",
       "        [[0.91997634, 0.9021236 , 1.04112229, ..., 1.25907677,\n",
       "          1.03795198, 0.83678798],\n",
       "         [0.92124544, 0.89603622, 1.04965135, ..., 1.25797712,\n",
       "          1.04196172, 0.84543885],\n",
       "         [0.92258212, 0.88973869, 1.0586183 , ..., 1.25595122,\n",
       "          1.04500122, 0.8540241 ],\n",
       "         ...,\n",
       "         [0.35918222, 0.90445972, 1.21099095, ..., 1.63285724,\n",
       "          1.21504006, 0.67808357],\n",
       "         [0.35755479, 0.90625229, 1.21814532, ..., 1.63202877,\n",
       "          1.20057828, 0.68092598],\n",
       "         [0.35636516, 0.90781702, 1.22490572, ..., 1.63018332,\n",
       "          1.18647911, 0.68443804]],\n",
       " \n",
       "        [[0.80914753, 2.05104837, 1.02992311, ..., 1.63561598,\n",
       "          0.5577858 , 1.59142474],\n",
       "         [0.80791782, 2.07475853, 1.02887362, ..., 1.62425765,\n",
       "          0.55563167, 1.60902652],\n",
       "         [0.80616298, 2.09676797, 1.02746926, ..., 1.61215347,\n",
       "          0.55332877, 1.62495944],\n",
       "         ...,\n",
       "         [1.65178201, 0.62013692, 0.97861897, ..., 0.70231892,\n",
       "          0.69779267, 3.13111139],\n",
       "         [1.64954829, 0.62040339, 0.97779483, ..., 0.6993253 ,\n",
       "          0.70953781, 3.12608838],\n",
       "         [1.64638183, 0.62100479, 0.97718293, ..., 0.69702094,\n",
       "          0.72117244, 3.11899983]],\n",
       " \n",
       "        ...,\n",
       " \n",
       "        [[1.63473273, 0.65047402, 1.01466996, ..., 1.04867466,\n",
       "          0.43335936, 1.09256327],\n",
       "         [1.60717158, 0.65462553, 1.02927878, ..., 1.04264177,\n",
       "          0.43604235, 1.08628688],\n",
       "         [1.57972543, 0.65846034, 1.04348182, ..., 1.03697465,\n",
       "          0.43908741, 1.08058509],\n",
       "         ...,\n",
       "         [0.78863704, 0.74259852, 0.66355397, ..., 0.73975732,\n",
       "          1.33146762, 0.8833841 ],\n",
       "         [0.7871951 , 0.75269701, 0.66752016, ..., 0.73542413,\n",
       "          1.3563265 , 0.87957851],\n",
       "         [0.78563887, 0.76354745, 0.67184229, ..., 0.73105425,\n",
       "          1.38174995, 0.87555577]],\n",
       " \n",
       "        [[0.81737761, 0.5224553 , 1.46995652, ..., 0.71592185,\n",
       "          0.4684502 , 0.6230199 ],\n",
       "         [0.81176825, 0.5254497 , 1.49423408, ..., 0.7225775 ,\n",
       "          0.4636655 , 0.63735429],\n",
       "         [0.80633623, 0.52877507, 1.51808983, ..., 0.72952044,\n",
       "          0.45969577, 0.65269751],\n",
       "         ...,\n",
       "         [0.85207833, 0.98030307, 1.07540756, ..., 0.70755215,\n",
       "          0.79370454, 0.86685687],\n",
       "         [0.85927111, 0.99952684, 1.05656156, ..., 0.69646123,\n",
       "          0.78770616, 0.87115584],\n",
       "         [0.86641676, 1.01834238, 1.0384496 , ..., 0.68550684,\n",
       "          0.78176183, 0.87504163]],\n",
       " \n",
       "        [[0.74658292, 2.22137085, 1.03133032, ..., 1.32767025,\n",
       "          1.05597434, 1.00744359],\n",
       "         [0.72536836, 2.22057011, 1.03403114, ..., 1.35090197,\n",
       "          1.08266898, 1.00321585],\n",
       "         [0.70516537, 2.21829418, 1.03647726, ..., 1.37364619,\n",
       "          1.1106125 , 0.99935941],\n",
       "         ...,\n",
       "         [0.36968034, 0.82911289, 0.91417527, ..., 0.58867364,\n",
       "          2.58130141, 1.43791731],\n",
       "         [0.36717849, 0.80686228, 0.90348659, ..., 0.58833065,\n",
       "          2.57003753, 1.41678685],\n",
       "         [0.36475783, 0.78474883, 0.89271903, ..., 0.58794974,\n",
       "          2.55706749, 1.39501342]]]),\n",
       " array([[1.11578521, 0.97014205, 1.01084593, ..., 0.93703946, 0.78095287,\n",
       "         0.82821689],\n",
       "        [1.11056591, 0.97026694, 1.01119614, ..., 0.93744479, 0.78226752,\n",
       "         0.82896635],\n",
       "        [1.10528415, 0.97043093, 1.01153081, ..., 0.93786621, 0.78371414,\n",
       "         0.8298633 ],\n",
       "        ...,\n",
       "        [0.81294455, 0.92778135, 0.90805456, ..., 0.89217059, 1.15001894,\n",
       "         0.91452439],\n",
       "        [0.81232612, 0.924744  , 0.90571499, ..., 0.88967347, 1.15135994,\n",
       "         0.91141663],\n",
       "        [0.81171014, 0.92187629, 0.90346749, ..., 0.88719263, 1.15259926,\n",
       "         0.90836635]]))"
      ]
     },
     "execution_count": 40,
     "metadata": {},
     "output_type": "execute_result"
    }
   ],
   "source": [
    "processed_real, nt_pr, nchan_pr, nstim_r, trange, ts, V_epochs_pr, V_hand_real, hand_real_data"
   ]
  },
  {
   "cell_type": "code",
   "execution_count": null,
   "metadata": {},
   "outputs": [],
   "source": [
    "realV = {}\n",
    "imagineV = {}\n",
    "realSet = {}\n",
    "imagineSet = {}\n",
    "\n",
    "desiredKeys = ['t_off', 'stim_id', 't_on', 'V', 'scale_uv', 'locs', 'srate']\n",
    "\n",
    "for i in range(7):\n",
    "    print(f\"Sample rate of participant (real) {i}: {DataLoad[i][0]['srate']}\")\n",
    "    print(f\"Sample rate of participant (imagine) {i}: {DataLoad[i][1]['srate']}\")\n",
    "    \n",
    "    x = process.preprocess(DataLoad[i][0])\n",
    "    nt, nchan = x.shape\n",
    "    nstim = len(DataLoad[i][0]['t_on'])\n",
    "    trange = np.arange(0, 2000)\n",
    "    ts = DataLoad[i][0]['t_on'][:, np.newaxis] + trange\n",
    "    V_epochs = np.reshape(x[ts, :], (nstim, 2000, nchan))\n",
    "    print(V_epochs.shape)\n",
    "    realV[i] = V_epochs\n",
    "    realSet[i] = {key: DataLoad[i][0][key] for key in desiredKeys}\n",
    "\n",
    "    y = process.preprocess(DataLoad[i][1])\n",
    "    nt, nchan = y.shape\n",
    "    nstim = len(DataLoad[i][1]['t_on'])\n",
    "    trange = np.arange(0, 2000)\n",
    "    ts = DataLoad[i][1]['t_on'][:, np.newaxis] + trange\n",
    "    V_epochs = np.reshape(y[ts, :], (nstim, 2000, nchan))\n",
    "    print(V_epochs.shape)\n",
    "    imagineV[i] = V_epochs\n",
    "    imagineSet[i] = {key: DataLoad[i][1][key] for key in desiredKeys}\n"
   ]
  }
 ],
 "metadata": {
  "kernelspec": {
   "display_name": "base",
   "language": "python",
   "name": "python3"
  },
  "language_info": {
   "codemirror_mode": {
    "name": "ipython",
    "version": 3
   },
   "file_extension": ".py",
   "mimetype": "text/x-python",
   "name": "python",
   "nbconvert_exporter": "python",
   "pygments_lexer": "ipython3",
   "version": "3.8.16"
  },
  "orig_nbformat": 4
 },
 "nbformat": 4,
 "nbformat_minor": 2
}
