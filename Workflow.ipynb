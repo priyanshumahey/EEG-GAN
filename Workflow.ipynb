{
 "cells": [
  {
   "cell_type": "markdown",
   "metadata": {},
   "source": [
    "# Workflow"
   ]
  },
  {
   "cell_type": "code",
   "execution_count": null,
   "metadata": {},
   "outputs": [],
   "source": [
    "import mne\n",
    "import numpy as np \n",
    "import matplotlib.pyplot as plt\n",
    "import torch\n",
    "import os\n",
    "from sklearn.pipeline import Pipeline"
   ]
  },
  {
   "cell_type": "markdown",
   "metadata": {},
   "source": [
    "## Downloading the Data"
   ]
  },
  {
   "cell_type": "markdown",
   "metadata": {},
   "source": [
    "To download the data, we'll use the Data folder which contains ways to download data. Here we'll start off by using the EEG_BCI motor imagery dataset.\n",
    "\n",
    "If we want to download the entire dataset, we can do the following:"
   ]
  },
  {
   "cell_type": "code",
   "execution_count": null,
   "metadata": {},
   "outputs": [],
   "source": [
    "from Data import download_EEGBCI "
   ]
  },
  {
   "cell_type": "code",
   "execution_count": null,
   "metadata": {},
   "outputs": [],
   "source": [
    "if input(\"Are you sure you want to download the entire dataset? (Y/N)\") in \"Yy\":\n",
    "    total_subjects = list(range(1, 110))\n",
    "    runs = list(range(1, 15))\n",
    "    download_EEGBCI(total_subjects, runs, './EEGData', False)\n",
    "    print(\"Downloaded everything!\")\n",
    "\n",
    "else:\n",
    "    print(\"Download cancelled.\")"
   ]
  },
  {
   "cell_type": "markdown",
   "metadata": {},
   "source": [
    "For now, we only want to download the first 3 subjects and the first 3 runs:"
   ]
  },
  {
   "cell_type": "code",
   "execution_count": null,
   "metadata": {},
   "outputs": [],
   "source": [
    "subjects = [1, 2, 3]\n",
    "runs = [1, 2, 3]\n",
    "download_EEGBCI(subjects, runs, './EEGData', False)"
   ]
  },
  {
   "cell_type": "markdown",
   "metadata": {},
   "source": [
    "## Loading the Data"
   ]
  },
  {
   "cell_type": "markdown",
   "metadata": {},
   "source": [
    "This step is critical for actually getting the data into the ML algorithms. To do this, we'll have to rely on MNE's import functions to load the data into a format that we can use."
   ]
  },
  {
   "cell_type": "code",
   "execution_count": null,
   "metadata": {},
   "outputs": [],
   "source": [
    "main_folder = './EEGData/MNE-eegbci-data/files/eegmmidb/1.0.0'\n",
    "\n",
    "subdirectories = [f.path for f in os.scandir(main_folder) if f.is_dir()]\n",
    "\n",
    "opened_files = []\n",
    "closed_files = []\n",
    "\n",
    "for subdirectory in subdirectories:\n",
    "    files = os.listdir(subdirectory)\n",
    "    \n",
    "    if len(files) > 0:\n",
    "        for file in files:\n",
    "            \n",
    "            if file[-6:] == '01.edf':\n",
    "                # This is data for eyes opened\n",
    "                eyes_opened = os.path.join(subdirectory, file)\n",
    "                print(eyes_opened)\n",
    "                opened_files.append(eyes_opened)\n",
    "\n",
    "            if file[-6:] == '02.edf':\n",
    "                # This is data for eyes closed\n",
    "                eyes_closed = os.path.join(subdirectory, file)\n",
    "                print(eyes_closed)\n",
    "                closed_files.append(eyes_closed)\n",
    "    else:\n",
    "        print(f\"No files found in {subdirectory}\")"
   ]
  },
  {
   "cell_type": "code",
   "execution_count": null,
   "metadata": {},
   "outputs": [],
   "source": [
    "large_open_data = []\n",
    "# This is a list of all the data for eyes opened\n",
    "\n",
    "for data in opened_files:\n",
    "    large_open_data.append(mne.io.read_raw_edf(data, preload=True, verbose=False).get_data(verbose=False))\n",
    "\n",
    "large_closed_data = []\n",
    "# This is a list of all the data for eyes closed\n",
    "\n",
    "for data in closed_files:\n",
    "    large_closed_data.append(mne.io.read_raw_edf(data, preload=True, verbose=False).get_data(verbose=False))\n",
    "\n",
    "\n",
    "# This is the number of files for eyes opened\n",
    "print(large_open_data.__len__())\n",
    "# This is the number of files for eyes closed\n",
    "print(large_closed_data.__len__())"
   ]
  },
  {
   "cell_type": "markdown",
   "metadata": {},
   "source": [
    "Now, we've managed to go over how we load the data, let's do some basic data prep:"
   ]
  },
  {
   "cell_type": "code",
   "execution_count": null,
   "metadata": {},
   "outputs": [],
   "source": []
  },
  {
   "cell_type": "markdown",
   "metadata": {},
   "source": [
    "### More Detailed Ways of Working With MNE"
   ]
  },
  {
   "cell_type": "code",
   "execution_count": null,
   "metadata": {},
   "outputs": [],
   "source": [
    "data_loc = \"./EEGData/MNE-eegbci-data/files/eegmmidb/1.0.0/\"\n",
    "raw = mne.io.read_raw_edf('./EEGData/MNE-eegbci-data/files/eegmmidb/1.0.0/S001/S001R06.edf', preload=True)\n",
    "annotations = raw.annotations\n",
    "annotations "
   ]
  },
  {
   "cell_type": "code",
   "execution_count": null,
   "metadata": {},
   "outputs": [],
   "source": [
    "event_descriptions, event_counts = np.unique(annotations.description, return_counts=True)\n",
    "\n",
    "# Print event descriptions and their counts\n",
    "for desc, count in zip(event_descriptions, event_counts):\n",
    "    print(f\"Event: {desc}, Count: {count}\")\n",
    "\n",
    "# Select specific event type (replace 'event_type' with your desired event description)\n",
    "event_type = 'event_type'\n",
    "events = annotations[annotations.description == event_type]\n",
    "\n",
    "# Print out event onset times and durations\n",
    "for idx, event in enumerate(events):\n",
    "    print(f\"Event {idx + 1}: Onset: {event['onset']:.2f}, Duration: {event['duration']:.2f}\")\n",
    "\n",
    "# Replace 'your_file.edf' with the actual path to your EDF file\n",
    "raw =  mne.io.read_raw_edf('./EEGData/MNE-eegbci-data/files/eegmmidb/1.0.0/S001/S001R06.edf', preload=True)\n",
    "\n",
    "# Get EEG data for all channels\n",
    "eeg_data = raw.get_data()\n",
    "\n",
    "# Print the shape of the EEG data array\n",
    "print(\"EEG data shape:\", eeg_data.shape)\n",
    "\n",
    "# List of EDF file paths\n",
    "edf_files = ['./EEGData/MNE-eegbci-data/files/eegmmidb/1.0.0/S001/S001R06.edf', \n",
    "'./EEGData/MNE-eegbci-data/files/eegmmidb/1.0.0/S001/S001R10.edf',\n",
    "'./EEGData/MNE-eegbci-data/files/eegmmidb/1.0.0/S001/S001R14.edf']\n",
    "\n",
    "# List comprehension to read all EDF files\n",
    "raw_list = [mne.io.read_raw_edf(edf_file, preload=True) for edf_file in edf_files]\n",
    "\n",
    "# Extract EEG data for all channels from each raw object\n",
    "eeg_data_list = [raw.get_data() for raw in raw_list]\n",
    "\n",
    "# Print the shape of the EEG data arrays for each file\n",
    "for idx, eeg_data in enumerate(eeg_data_list):\n",
    "    print(f\"EEG data shape for file {edf_files[idx]}:\", eeg_data.shape)\n",
    "\n",
    "raw_list[0].plot(scalings='auto', title='EEG Channels')"
   ]
  },
  {
   "cell_type": "markdown",
   "metadata": {},
   "source": [
    "## Visualizing the Data"
   ]
  },
  {
   "cell_type": "code",
   "execution_count": null,
   "metadata": {},
   "outputs": [],
   "source": [
    "def basic_plot(file_path):\n",
    "    data = mne.io.read_raw_edf(file_path, preload=True, verbose=False)\n",
    "    eeg_data = data.get_data()\n",
    "    time = data.times\n",
    "    plt.figure(figsize=(10, 6))\n",
    "    for ch_idx in range(eeg_data.shape[0]):\n",
    "        plt.plot(time, eeg_data[ch_idx], label=f'Channel {ch_idx + 1}')\n",
    "    plt.xlabel('Time (s)')\n",
    "    plt.ylabel('Amplitude')\n",
    "    plt.title('EEG Data for All Channels')\n",
    "    return plt.show()"
   ]
  },
  {
   "cell_type": "code",
   "execution_count": null,
   "metadata": {},
   "outputs": [],
   "source": [
    "def double_plot(file1, file2):\n",
    "    fig, (ax1, ax2) = plt.subplots(2, 1)\n",
    "    fig.suptitle('Eyes Opened vs Eyes Closed')\n",
    "\n",
    "    data1 = mne.io.read_raw_edf(file1, preload=True, verbose=False)\n",
    "    data1.filter(1.0, 30.0, fir_design=\"firwin\", skip_by_annotation=\"edge\", verbose=False)\n",
    "    ica = mne.preprocessing.ICA(n_components=20, random_state=97, max_iter=800, verbose=False)\n",
    "    ica.fit(data1, verbose=False)\n",
    "    ica.exclude = [1, 2]\n",
    "    data1 = ica.apply(data1, verbose=False)\n",
    "\n",
    "    \n",
    "    data2 = mne.io.read_raw_edf(file2, preload=True, verbose=False)\n",
    "    data2.filter(1.0, 30.0, fir_design=\"firwin\", skip_by_annotation=\"edge\", verbose=False)\n",
    "    ica = mne.preprocessing.ICA(n_components=20, random_state=97, max_iter=800, verbose=False)\n",
    "    ica.fit(data2, verbose=False)\n",
    "    ica.exclude = [1, 2]\n",
    "    data2 = ica.apply(data2, verbose=False)\n",
    "    \n",
    "\n",
    "    good_channels1 = data1.info['ch_names']\n",
    "    good_channels2 = data2.info['ch_names']\n",
    "\n",
    "    eeg_data1 = data1.get_data(picks=good_channels1)\n",
    "    eeg_data2 = data2.get_data(picks=good_channels2)\n",
    "\n",
    "    time = data1.times\n",
    "\n",
    "    ax1.plot(time, eeg_data1[0])\n",
    "    ax1.set_title('Eyes Opened')\n",
    "    ax1.set_xlabel('Time (s)')\n",
    "    ax1.set_ylabel('Amplitude')\n",
    "    for ch_idx in range(eeg_data1.shape[0]):\n",
    "        ax1.plot(time, eeg_data1[ch_idx], label=f'Channel {ch_idx + 1}')\n",
    "    ax1.set_xlim(0, 5)\n",
    "    ax1.set_ylim(-0.0002, 0.0002)\n",
    "\n",
    "    ax2.plot(time, eeg_data2[0])\n",
    "    ax2.set_title('Eyes Closed')\n",
    "    ax2.set_xlabel('Time (s)')\n",
    "    ax2.set_ylabel('Amplitude')\n",
    "    for ch_idx in range(eeg_data2.shape[0]):\n",
    "        ax2.plot(time, eeg_data2[ch_idx], label=f'Channel {ch_idx + 1}')\n",
    "    ax2.set_xlim(0, 5)\n",
    "    ax2.set_ylim(-0.0002, 0.0002)\n",
    "    return plt.show()"
   ]
  },
  {
   "cell_type": "code",
   "execution_count": null,
   "metadata": {},
   "outputs": [],
   "source": [
    "basic_plot(opened_files[0])"
   ]
  },
  {
   "cell_type": "code",
   "execution_count": null,
   "metadata": {},
   "outputs": [],
   "source": [
    "for i in range(1):\n",
    "    double_plot(opened_files[i], closed_files[i])"
   ]
  },
  {
   "cell_type": "code",
   "execution_count": null,
   "metadata": {},
   "outputs": [],
   "source": [
    "raw.compute_psd(fmax=50).plot(picks=\"data\", exclude=\"bads\")\n",
    "raw.plot(duration=5, n_channels=30)"
   ]
  },
  {
   "cell_type": "code",
   "execution_count": null,
   "metadata": {},
   "outputs": [],
   "source": [
    "# Load the raw EEG data\n",
    "edf_file = './EEGData/MNE-eegbci-data/files/eegmmidb/1.0.0/S001/S001R06.edf'  # Replace with the path to your EDF file\n",
    "raw = mne.io.read_raw_edf(edf_file, preload=True, verbose=False)\n",
    "\n",
    "\n",
    "def compute_psd(data, fs, nperseg=256, noverlap=None):\n",
    "    \"\"\"\n",
    "    Compute Power Spectral Density (PSD) using the Welch method.\n",
    "\n",
    "    Parameters:\n",
    "        data (array): EEG data array with shape (n_channels, n_samples).\n",
    "        fs (float): Sampling frequency.\n",
    "        nperseg (int): Length of each segment for PSD estimation.\n",
    "        noverlap (int): Number of overlapping samples between segments.\n",
    "    \n",
    "    Returns:\n",
    "        freqs (array): Frequency values.\n",
    "        psd (array): Power Spectral Density values.\n",
    "    \"\"\"\n",
    "    n_channels, n_samples = data.shape\n",
    "    psd = np.zeros((n_channels, nperseg // 2 + 1))\n",
    "\n",
    "    for ch_idx in range(n_channels):\n",
    "        f, Pxx = plt.psd(data[ch_idx], Fs=fs, NFFT=nperseg, noverlap=noverlap)\n",
    "        # Add a small epsilon to avoid zero values\n",
    "        psd[ch_idx] = Pxx + 1e-10\n",
    "\n",
    "    return f, psd\n",
    "\n",
    "\n",
    "# Get the EEG data using .get_data()\n",
    "eeg_data = raw.get_data()\n",
    "\n",
    "# Set the sampling frequency\n",
    "fs = raw.info['sfreq']\n",
    "\n",
    "# Compute PSD using the custom function\n",
    "freqs, psd = compute_psd(eeg_data, fs)\n",
    "\n",
    "# Plot the PSD\n",
    "plt.figure(figsize=(10, 6))  # Add this line to create a single figure\n",
    "for ch_idx in range(eeg_data.shape[0]):\n",
    "    plt.semilogy(freqs, psd[ch_idx], label=f'Channel {ch_idx + 1}')\n",
    "\n",
    "plt.xlabel('Frequency (Hz)')\n",
    "plt.ylabel('Power/Frequency (dB/Hz)')\n",
    "plt.show()"
   ]
  },
  {
   "cell_type": "markdown",
   "metadata": {},
   "source": [
    "## Preprocessing the Data"
   ]
  }
 ],
 "metadata": {
  "kernelspec": {
   "display_name": "Python 3",
   "language": "python",
   "name": "python3"
  },
  "language_info": {
   "codemirror_mode": {
    "name": "ipython",
    "version": 3
   },
   "file_extension": ".py",
   "mimetype": "text/x-python",
   "name": "python",
   "nbconvert_exporter": "python",
   "pygments_lexer": "ipython3",
   "version": "3.9.13"
  },
  "orig_nbformat": 4
 },
 "nbformat": 4,
 "nbformat_minor": 2
}
