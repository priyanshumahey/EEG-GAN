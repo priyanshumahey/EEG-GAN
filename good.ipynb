{
 "cells": [
  {
   "cell_type": "code",
   "execution_count": 1,
   "metadata": {},
   "outputs": [],
   "source": [
    "import mne\n",
    "import numpy as np \n",
    "import matplotlib.pyplot as plt\n",
    "import torch\n",
    "import os\n",
    "from sklearn.pipeline import Pipeline"
   ]
  },
  {
   "cell_type": "code",
   "execution_count": 2,
   "metadata": {},
   "outputs": [
    {
     "name": "stdout",
     "output_type": "stream",
     "text": [
      "Extracting EDF parameters from c:\\Users\\priya\\Documents\\GitHub\\EEG-GAN\\MNE-eegbci-data\\files\\eegmmidb\\1.0.0\\S001\\S001R04.edf...\n",
      "EDF file detected\n"
     ]
    },
    {
     "ename": "FileNotFoundError",
     "evalue": "[Errno 2] No such file or directory: 'c:\\\\Users\\\\priya\\\\Documents\\\\GitHub\\\\EEG-GAN\\\\MNE-eegbci-data\\\\files\\\\eegmmidb\\\\1.0.0\\\\S001\\\\S001R04.edf'",
     "output_type": "error",
     "traceback": [
      "\u001b[1;31m---------------------------------------------------------------------------\u001b[0m",
      "\u001b[1;31mFileNotFoundError\u001b[0m                         Traceback (most recent call last)",
      "Cell \u001b[1;32mIn[2], line 2\u001b[0m\n\u001b[0;32m      1\u001b[0m data_loc \u001b[39m=\u001b[39m \u001b[39m\"\u001b[39m\u001b[39m./MNE-eegbci-data/files/eegmmidb/1.0.0/\u001b[39m\u001b[39m\"\u001b[39m\n\u001b[1;32m----> 2\u001b[0m raw \u001b[39m=\u001b[39m mne\u001b[39m.\u001b[39;49mio\u001b[39m.\u001b[39;49mread_raw_edf(\u001b[39m'\u001b[39;49m\u001b[39m./MNE-eegbci-data/files/eegmmidb/1.0.0/S001/S001R04.edf\u001b[39;49m\u001b[39m'\u001b[39;49m, preload\u001b[39m=\u001b[39;49m\u001b[39mTrue\u001b[39;49;00m)\n\u001b[0;32m      3\u001b[0m annotations \u001b[39m=\u001b[39m raw\u001b[39m.\u001b[39mannotations\n\u001b[0;32m      4\u001b[0m annotations \n",
      "File \u001b[1;32mc:\\Users\\priya\\Python\\Python39\\lib\\site-packages\\mne\\io\\edf\\edf.py:1629\u001b[0m, in \u001b[0;36mread_raw_edf\u001b[1;34m(input_fname, eog, misc, stim_channel, exclude, infer_types, include, preload, units, encoding, verbose)\u001b[0m\n\u001b[0;32m   1627\u001b[0m \u001b[39mif\u001b[39;00m ext \u001b[39m!=\u001b[39m \u001b[39m\"\u001b[39m\u001b[39medf\u001b[39m\u001b[39m\"\u001b[39m:\n\u001b[0;32m   1628\u001b[0m     \u001b[39mraise\u001b[39;00m \u001b[39mNotImplementedError\u001b[39;00m(\u001b[39mf\u001b[39m\u001b[39m\"\u001b[39m\u001b[39mOnly EDF files are supported, got \u001b[39m\u001b[39m{\u001b[39;00mext\u001b[39m}\u001b[39;00m\u001b[39m.\u001b[39m\u001b[39m\"\u001b[39m)\n\u001b[1;32m-> 1629\u001b[0m \u001b[39mreturn\u001b[39;00m RawEDF(\n\u001b[0;32m   1630\u001b[0m     input_fname\u001b[39m=\u001b[39;49minput_fname,\n\u001b[0;32m   1631\u001b[0m     eog\u001b[39m=\u001b[39;49meog,\n\u001b[0;32m   1632\u001b[0m     misc\u001b[39m=\u001b[39;49mmisc,\n\u001b[0;32m   1633\u001b[0m     stim_channel\u001b[39m=\u001b[39;49mstim_channel,\n\u001b[0;32m   1634\u001b[0m     exclude\u001b[39m=\u001b[39;49mexclude,\n\u001b[0;32m   1635\u001b[0m     infer_types\u001b[39m=\u001b[39;49minfer_types,\n\u001b[0;32m   1636\u001b[0m     preload\u001b[39m=\u001b[39;49mpreload,\n\u001b[0;32m   1637\u001b[0m     include\u001b[39m=\u001b[39;49minclude,\n\u001b[0;32m   1638\u001b[0m     units\u001b[39m=\u001b[39;49munits,\n\u001b[0;32m   1639\u001b[0m     encoding\u001b[39m=\u001b[39;49mencoding,\n\u001b[0;32m   1640\u001b[0m     verbose\u001b[39m=\u001b[39;49mverbose,\n\u001b[0;32m   1641\u001b[0m )\n",
      "File \u001b[1;32m<decorator-gen-250>:12\u001b[0m, in \u001b[0;36m__init__\u001b[1;34m(self, input_fname, eog, misc, stim_channel, exclude, infer_types, preload, include, units, encoding, verbose)\u001b[0m\n",
      "File \u001b[1;32mc:\\Users\\priya\\Python\\Python39\\lib\\site-packages\\mne\\io\\edf\\edf.py:155\u001b[0m, in \u001b[0;36mRawEDF.__init__\u001b[1;34m(self, input_fname, eog, misc, stim_channel, exclude, infer_types, preload, include, units, encoding, verbose)\u001b[0m\n\u001b[0;32m    153\u001b[0m logger\u001b[39m.\u001b[39minfo(\u001b[39m\"\u001b[39m\u001b[39mExtracting EDF parameters from \u001b[39m\u001b[39m{}\u001b[39;00m\u001b[39m...\u001b[39m\u001b[39m\"\u001b[39m\u001b[39m.\u001b[39mformat(input_fname))\n\u001b[0;32m    154\u001b[0m input_fname \u001b[39m=\u001b[39m os\u001b[39m.\u001b[39mpath\u001b[39m.\u001b[39mabspath(input_fname)\n\u001b[1;32m--> 155\u001b[0m info, edf_info, orig_units \u001b[39m=\u001b[39m _get_info(\n\u001b[0;32m    156\u001b[0m     input_fname, stim_channel, eog, misc, exclude, infer_types, preload, include\n\u001b[0;32m    157\u001b[0m )\n\u001b[0;32m    158\u001b[0m logger\u001b[39m.\u001b[39minfo(\u001b[39m\"\u001b[39m\u001b[39mCreating raw.info structure...\u001b[39m\u001b[39m\"\u001b[39m)\n\u001b[0;32m    160\u001b[0m _validate_type(units, (\u001b[39mstr\u001b[39m, \u001b[39mNone\u001b[39;00m, \u001b[39mdict\u001b[39m), \u001b[39m\"\u001b[39m\u001b[39munits\u001b[39m\u001b[39m\"\u001b[39m)\n",
      "File \u001b[1;32mc:\\Users\\priya\\Python\\Python39\\lib\\site-packages\\mne\\io\\edf\\edf.py:528\u001b[0m, in \u001b[0;36m_get_info\u001b[1;34m(fname, stim_channel, eog, misc, exclude, infer_types, preload, include)\u001b[0m\n\u001b[0;32m    525\u001b[0m eog \u001b[39m=\u001b[39m eog \u001b[39mif\u001b[39;00m eog \u001b[39mis\u001b[39;00m \u001b[39mnot\u001b[39;00m \u001b[39mNone\u001b[39;00m \u001b[39melse\u001b[39;00m []\n\u001b[0;32m    526\u001b[0m misc \u001b[39m=\u001b[39m misc \u001b[39mif\u001b[39;00m misc \u001b[39mis\u001b[39;00m \u001b[39mnot\u001b[39;00m \u001b[39mNone\u001b[39;00m \u001b[39melse\u001b[39;00m []\n\u001b[1;32m--> 528\u001b[0m edf_info, orig_units \u001b[39m=\u001b[39m _read_header(fname, exclude, infer_types, include)\n\u001b[0;32m    530\u001b[0m \u001b[39m# XXX: `tal_ch_names` to pass to `_check_stim_channel` should be computed\u001b[39;00m\n\u001b[0;32m    531\u001b[0m \u001b[39m#      from `edf_info['ch_names']` and `edf_info['tal_idx']` but 'tal_idx'\u001b[39;00m\n\u001b[0;32m    532\u001b[0m \u001b[39m#      contains stim channels that are not TAL.\u001b[39;00m\n\u001b[0;32m    533\u001b[0m stim_channel_idxs, _ \u001b[39m=\u001b[39m _check_stim_channel(stim_channel, edf_info[\u001b[39m\"\u001b[39m\u001b[39mch_names\u001b[39m\u001b[39m\"\u001b[39m])\n",
      "File \u001b[1;32mc:\\Users\\priya\\Python\\Python39\\lib\\site-packages\\mne\\io\\edf\\edf.py:512\u001b[0m, in \u001b[0;36m_read_header\u001b[1;34m(fname, exclude, infer_types, include)\u001b[0m\n\u001b[0;32m    510\u001b[0m logger\u001b[39m.\u001b[39minfo(\u001b[39m\"\u001b[39m\u001b[39m%s\u001b[39;00m\u001b[39m file detected\u001b[39m\u001b[39m\"\u001b[39m \u001b[39m%\u001b[39m ext\u001b[39m.\u001b[39mupper())\n\u001b[0;32m    511\u001b[0m \u001b[39mif\u001b[39;00m ext \u001b[39min\u001b[39;00m (\u001b[39m\"\u001b[39m\u001b[39mbdf\u001b[39m\u001b[39m\"\u001b[39m, \u001b[39m\"\u001b[39m\u001b[39medf\u001b[39m\u001b[39m\"\u001b[39m):\n\u001b[1;32m--> 512\u001b[0m     \u001b[39mreturn\u001b[39;00m _read_edf_header(fname, exclude, infer_types, include)\n\u001b[0;32m    513\u001b[0m \u001b[39melif\u001b[39;00m ext \u001b[39m==\u001b[39m \u001b[39m\"\u001b[39m\u001b[39mgdf\u001b[39m\u001b[39m\"\u001b[39m:\n\u001b[0;32m    514\u001b[0m     \u001b[39mreturn\u001b[39;00m _read_gdf_header(fname, exclude, include), \u001b[39mNone\u001b[39;00m\n",
      "File \u001b[1;32mc:\\Users\\priya\\Python\\Python39\\lib\\site-packages\\mne\\io\\edf\\edf.py:760\u001b[0m, in \u001b[0;36m_read_edf_header\u001b[1;34m(fname, exclude, infer_types, include)\u001b[0m\n\u001b[0;32m    757\u001b[0m \u001b[39m\u001b[39m\u001b[39m\"\"\"Read header information from EDF+ or BDF file.\"\"\"\u001b[39;00m\n\u001b[0;32m    758\u001b[0m edf_info \u001b[39m=\u001b[39m {\u001b[39m\"\u001b[39m\u001b[39mevents\u001b[39m\u001b[39m\"\u001b[39m: []}\n\u001b[1;32m--> 760\u001b[0m \u001b[39mwith\u001b[39;00m \u001b[39mopen\u001b[39;49m(fname, \u001b[39m\"\u001b[39;49m\u001b[39mrb\u001b[39;49m\u001b[39m\"\u001b[39;49m) \u001b[39mas\u001b[39;00m fid:\n\u001b[0;32m    761\u001b[0m     fid\u001b[39m.\u001b[39mread(\u001b[39m8\u001b[39m)  \u001b[39m# version (unused here)\u001b[39;00m\n\u001b[0;32m    763\u001b[0m     \u001b[39m# patient ID\u001b[39;00m\n",
      "\u001b[1;31mFileNotFoundError\u001b[0m: [Errno 2] No such file or directory: 'c:\\\\Users\\\\priya\\\\Documents\\\\GitHub\\\\EEG-GAN\\\\MNE-eegbci-data\\\\files\\\\eegmmidb\\\\1.0.0\\\\S001\\\\S001R04.edf'"
     ]
    }
   ],
   "source": [
    "data_loc = \"./MNE-eegbci-data/files/eegmmidb/1.0.0/\"\n",
    "raw = mne.io.read_raw_edf('./MNE-eegbci-data/files/eegmmidb/1.0.0/S001/S001R04.edf', preload=True)\n",
    "annotations = raw.annotations\n",
    "annotations "
   ]
  },
  {
   "cell_type": "code",
   "execution_count": null,
   "metadata": {},
   "outputs": [],
   "source": [
    "event_descriptions, event_counts = np.unique(annotations.description, return_counts=True)\n",
    "\n",
    "# Print event descriptions and their counts\n",
    "for desc, count in zip(event_descriptions, event_counts):\n",
    "    print(f\"Event: {desc}, Count: {count}\")\n",
    "\n",
    "# Select specific event type (replace 'event_type' with your desired event description)\n",
    "event_type = 'event_type'\n",
    "events = annotations[annotations.description == event_type]\n",
    "\n",
    "# Print out event onset times and durations\n",
    "for idx, event in enumerate(events):\n",
    "    print(f\"Event {idx + 1}: Onset: {event['onset']:.2f}, Duration: {event['duration']:.2f}\")"
   ]
  },
  {
   "cell_type": "code",
   "execution_count": null,
   "metadata": {},
   "outputs": [],
   "source": [
    "# Replace 'your_file.edf' with the actual path to your EDF file\n",
    "raw =  mne.io.read_raw_edf('./MNE-eegbci-data/files/eegmmidb/1.0.0/S001/S001R04.edf', preload=True)\n",
    "\n",
    "# Get EEG data for all channels\n",
    "eeg_data = raw.get_data()\n",
    "\n",
    "# Print the shape of the EEG data array\n",
    "print(\"EEG data shape:\", eeg_data.shape)"
   ]
  },
  {
   "cell_type": "code",
   "execution_count": null,
   "metadata": {},
   "outputs": [],
   "source": [
    "# List of EDF file paths\n",
    "edf_files = ['./MNE-eegbci-data/files/eegmmidb/1.0.0/S002/S002R01.edf', \n",
    "'./MNE-eegbci-data/files/eegmmidb/1.0.0/S002/S002R02.edf',\n",
    "'./MNE-eegbci-data/files/eegmmidb/1.0.0/S002/S001R07.edf']\n",
    "\n",
    "# List comprehension to read all EDF files\n",
    "raw_list = [mne.io.read_raw_edf(edf_file, preload=True) for edf_file in edf_files]\n",
    "\n",
    "# Extract EEG data for all channels from each raw object\n",
    "eeg_data_list = [raw.get_data() for raw in raw_list]\n",
    "\n",
    "# Print the shape of the EEG data arrays for each file\n",
    "for idx, eeg_data in enumerate(eeg_data_list):\n",
    "    print(f\"EEG data shape for file {edf_files[idx]}:\", eeg_data.shape)"
   ]
  },
  {
   "cell_type": "code",
   "execution_count": null,
   "metadata": {},
   "outputs": [],
   "source": [
    "raw_list[0].plot(scalings='auto', title='EEG Channels')"
   ]
  },
  {
   "cell_type": "code",
   "execution_count": null,
   "metadata": {},
   "outputs": [],
   "source": [
    "eeg_data = raw_list[0].get_data()\n",
    "time = raw_list[0].times\n",
    "\n",
    "# Plot EEG data for all channels using Matplotlib\n",
    "plt.figure(figsize=(10, 6))\n",
    "for ch_idx in range(eeg_data.shape[0]):\n",
    "    plt.plot(time, eeg_data[ch_idx], label=f'Channel {ch_idx + 1}')\n",
    "\n",
    "plt.xlabel('Time (s)')\n",
    "plt.ylabel('Amplitude')\n",
    "plt.title('EEG Data for All Channels')\n",
    "plt.show()"
   ]
  },
  {
   "cell_type": "code",
   "execution_count": null,
   "metadata": {},
   "outputs": [],
   "source": [
    "eeg_data = raw_list[1].get_data()\n",
    "time = raw_list[0].times\n",
    "\n",
    "# Plot EEG data for all channels using Matplotlib\n",
    "plt.figure(figsize=(10, 6))\n",
    "for ch_idx in range(eeg_data.shape[0]):\n",
    "    plt.plot(time, eeg_data[ch_idx], label=f'Channel {ch_idx + 1}')\n",
    "\n",
    "plt.xlabel('Time (s)')\n",
    "plt.ylabel('Amplitude')\n",
    "plt.title('EEG Data for All Channels')\n",
    "plt.show()"
   ]
  },
  {
   "cell_type": "code",
   "execution_count": null,
   "metadata": {},
   "outputs": [],
   "source": [
    "main_folder = './MNE-eegbci-data/files/eegmmidb/1.0.0'\n",
    "\n",
    "subdirectories = [f.path for f in os.scandir(main_folder) if f.is_dir()]\n",
    "\n",
    "files_to_use = []\n",
    "\n",
    "for subdirectory in subdirectories:\n",
    "    files = os.listdir(subdirectory)\n",
    "    \n",
    "    if len(files) > 0:\n",
    "        for file in files:\n",
    "            \n",
    "            if file[-6:] == '01.edf':\n",
    "                first_file_path = os.path.join(subdirectory, file)\n",
    "                print(first_file_path)\n",
    "                files_to_use.append(first_file_path)\n",
    "    else:\n",
    "        print(f\"No files found in {subdirectory}\")"
   ]
  },
  {
   "cell_type": "code",
   "execution_count": null,
   "metadata": {},
   "outputs": [],
   "source": [
    "main_folder = './MNE-eegbci-data/files/eegmmidb/1.0.0'\n",
    "\n",
    "subdirectories = [f.path for f in os.scandir(main_folder) if f.is_dir()]\n",
    "\n",
    "\n",
    "opened_files = []\n",
    "closed_files = []\n",
    "\n",
    "for subdirectory in subdirectories:\n",
    "    files = os.listdir(subdirectory)\n",
    "    \n",
    "    if len(files) > 0:\n",
    "        for file in files:\n",
    "            \n",
    "            if file[-6:] == '01.edf':\n",
    "                eyes_opened = os.path.join(subdirectory, file)\n",
    "                print(eyes_opened)\n",
    "                opened_files.append(eyes_opened)\n",
    "\n",
    "            if file[-6:] == '02.edf':\n",
    "                eyes_closed = os.path.join(subdirectory, file)\n",
    "                print(eyes_closed)\n",
    "                closed_files.append(eyes_closed)\n",
    "    else:\n",
    "        print(f\"No files found in {subdirectory}\")"
   ]
  },
  {
   "cell_type": "code",
   "execution_count": null,
   "metadata": {},
   "outputs": [],
   "source": [
    "opened_files, closed_files"
   ]
  },
  {
   "cell_type": "code",
   "execution_count": null,
   "metadata": {},
   "outputs": [],
   "source": [
    "def plot_this(file_path):\n",
    "    data = mne.io.read_raw_edf(file_path, preload=True, verbose=False)\n",
    "    eeg_data = data.get_data()\n",
    "    time = data.times\n",
    "    plt.figure(figsize=(10, 6))\n",
    "    for ch_idx in range(eeg_data.shape[0]):\n",
    "        plt.plot(time, eeg_data[ch_idx], label=f'Channel {ch_idx + 1}')\n",
    "    plt.xlabel('Time (s)')\n",
    "    plt.ylabel('Amplitude')\n",
    "    plt.title('EEG Data for All Channels')\n",
    "    return plt.show()"
   ]
  },
  {
   "cell_type": "code",
   "execution_count": null,
   "metadata": {},
   "outputs": [],
   "source": [
    "plot_this(opened_files[0])"
   ]
  },
  {
   "cell_type": "code",
   "execution_count": null,
   "metadata": {},
   "outputs": [],
   "source": [
    "def double_plot(file1, file2):\n",
    "    fig, (ax1, ax2) = plt.subplots(2, 1)\n",
    "    fig.suptitle('Eyes Opened vs Eyes Closed')\n",
    "\n",
    "    data1 = mne.io.read_raw_edf(file1, preload=True, verbose=False)\n",
    "    data1.filter(1.0, 30.0, fir_design=\"firwin\", skip_by_annotation=\"edge\", verbose=False)\n",
    "    ica = mne.preprocessing.ICA(n_components=20, random_state=97, max_iter=800, verbose=False)\n",
    "    ica.fit(data1, verbose=False)\n",
    "    ica.exclude = [1, 2]\n",
    "    data1 = ica.apply(data1, verbose=False)\n",
    "\n",
    "    \n",
    "    data2 = mne.io.read_raw_edf(file2, preload=True, verbose=False)\n",
    "    data2.filter(1.0, 30.0, fir_design=\"firwin\", skip_by_annotation=\"edge\", verbose=False)\n",
    "    ica = mne.preprocessing.ICA(n_components=20, random_state=97, max_iter=800, verbose=False)\n",
    "    ica.fit(data2, verbose=False)\n",
    "    ica.exclude = [1, 2]\n",
    "    data2 = ica.apply(data2, verbose=False)\n",
    "    \n",
    "\n",
    "    good_channels1 = data1.info['ch_names']\n",
    "    good_channels2 = data2.info['ch_names']\n",
    "\n",
    "    eeg_data1 = data1.get_data(picks=good_channels1)\n",
    "    eeg_data2 = data2.get_data(picks=good_channels2)\n",
    "\n",
    "    time = data1.times\n",
    "\n",
    "    ax1.plot(time, eeg_data1[0])\n",
    "    ax1.set_title('Eyes Opened')\n",
    "    ax1.set_xlabel('Time (s)')\n",
    "    ax1.set_ylabel('Amplitude')\n",
    "    for ch_idx in range(eeg_data1.shape[0]):\n",
    "        ax1.plot(time, eeg_data1[ch_idx], label=f'Channel {ch_idx + 1}')\n",
    "    ax1.set_xlim(0, 5)\n",
    "    ax1.set_ylim(-0.0002, 0.0002)\n",
    "\n",
    "    ax2.plot(time, eeg_data2[0])\n",
    "    ax2.set_title('Eyes Closed')\n",
    "    ax2.set_xlabel('Time (s)')\n",
    "    ax2.set_ylabel('Amplitude')\n",
    "    for ch_idx in range(eeg_data2.shape[0]):\n",
    "        ax2.plot(time, eeg_data2[ch_idx], label=f'Channel {ch_idx + 1}')\n",
    "    ax2.set_xlim(0, 5)\n",
    "    ax2.set_ylim(-0.0002, 0.0002)\n",
    "    return plt.show()"
   ]
  },
  {
   "cell_type": "code",
   "execution_count": null,
   "metadata": {},
   "outputs": [],
   "source": [
    "for i in range(2):\n",
    "    double_plot(opened_files[i], closed_files[i])"
   ]
  },
  {
   "cell_type": "code",
   "execution_count": null,
   "metadata": {},
   "outputs": [],
   "source": [
    "raw.compute_psd(fmax=50).plot(picks=\"data\", exclude=\"bads\")\n",
    "raw.plot(duration=5, n_channels=30)"
   ]
  },
  {
   "cell_type": "code",
   "execution_count": null,
   "metadata": {},
   "outputs": [],
   "source": [
    "# Load the raw EEG data\n",
    "edf_file = './MNE-eegbci-data/files/eegmmidb/1.0.0/S002/S002R01.edf'  # Replace with the path to your EDF file\n",
    "raw = mne.io.read_raw_edf(edf_file, preload=True, verbose=False)\n",
    "\n",
    "\n",
    "def compute_psd(data, fs, nperseg=256, noverlap=None):\n",
    "    \"\"\"\n",
    "    Compute Power Spectral Density (PSD) using the Welch method.\n",
    "\n",
    "    Parameters:\n",
    "        data (array): EEG data array with shape (n_channels, n_samples).\n",
    "        fs (float): Sampling frequency.\n",
    "        nperseg (int): Length of each segment for PSD estimation.\n",
    "        noverlap (int): Number of overlapping samples between segments.\n",
    "    \n",
    "    Returns:\n",
    "        freqs (array): Frequency values.\n",
    "        psd (array): Power Spectral Density values.\n",
    "    \"\"\"\n",
    "    n_channels, n_samples = data.shape\n",
    "    psd = np.zeros((n_channels, nperseg // 2 + 1))\n",
    "\n",
    "    for ch_idx in range(n_channels):\n",
    "        f, Pxx = plt.psd(data[ch_idx], Fs=fs, NFFT=nperseg, noverlap=noverlap)\n",
    "        # Add a small epsilon to avoid zero values\n",
    "        psd[ch_idx] = Pxx + 1e-10\n",
    "\n",
    "    return f, psd\n",
    "\n",
    "\n",
    "# Get the EEG data using .get_data()\n",
    "eeg_data = raw.get_data()\n",
    "\n",
    "# Set the sampling frequency\n",
    "fs = raw.info['sfreq']\n",
    "\n",
    "# Compute PSD using the custom function\n",
    "freqs, psd = compute_psd(eeg_data, fs)\n",
    "\n",
    "# Plot the PSD\n",
    "plt.figure(figsize=(10, 6))  # Add this line to create a single figure\n",
    "for ch_idx in range(eeg_data.shape[0]):\n",
    "    plt.semilogy(freqs, psd[ch_idx], label=f'Channel {ch_idx + 1}')\n",
    "\n",
    "plt.xlabel('Frequency (Hz)')\n",
    "plt.ylabel('Power/Frequency (dB/Hz)')\n",
    "plt.show()"
   ]
  }
 ],
 "metadata": {
  "kernelspec": {
   "display_name": "orl",
   "language": "python",
   "name": "python3"
  },
  "language_info": {
   "codemirror_mode": {
    "name": "ipython",
    "version": 3
   },
   "file_extension": ".py",
   "mimetype": "text/x-python",
   "name": "python",
   "nbconvert_exporter": "python",
   "pygments_lexer": "ipython3",
   "version": "3.9.13"
  },
  "orig_nbformat": 4
 },
 "nbformat": 4,
 "nbformat_minor": 2
}
