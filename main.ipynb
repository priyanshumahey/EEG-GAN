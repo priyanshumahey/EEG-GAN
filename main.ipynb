{
 "cells": [
  {
   "attachments": {},
   "cell_type": "markdown",
   "metadata": {},
   "source": [
    "# EEG - GAN"
   ]
  },
  {
   "attachments": {},
   "cell_type": "markdown",
   "metadata": {},
   "source": [
    "In this project, we attempt to create synthetic EEG signals using a GAN."
   ]
  },
  {
   "attachments": {},
   "cell_type": "markdown",
   "metadata": {},
   "source": [
    "## Initialization"
   ]
  },
  {
   "attachments": {},
   "cell_type": "markdown",
   "metadata": {},
   "source": [
    "### Import and Installs"
   ]
  },
  {
   "attachments": {},
   "cell_type": "markdown",
   "metadata": {},
   "source": [
    "#### Install Libraries"
   ]
  },
  {
   "cell_type": "code",
   "execution_count": null,
   "metadata": {},
   "outputs": [],
   "source": [
    "!pip install nilearn --quiet\n",
    "!pip install nimare --quiet\n",
    "!pip install duecredit --quiet"
   ]
  },
  {
   "attachments": {},
   "cell_type": "markdown",
   "metadata": {},
   "source": [
    "#### Import Libraries"
   ]
  },
  {
   "cell_type": "code",
   "execution_count": null,
   "metadata": {},
   "outputs": [],
   "source": [
    "import os, requests\n",
    "from matplotlib import rcParams\n",
    "from matplotlib import pyplot as plt\n",
    "from nilearn import plotting\n",
    "from nimare import utils\n",
    "import numpy as np\n",
    "from scipy import signal"
   ]
  },
  {
   "attachments": {},
   "cell_type": "markdown",
   "metadata": {},
   "source": [
    "#### Dataset"
   ]
  },
  {
   "cell_type": "code",
   "execution_count": null,
   "metadata": {},
   "outputs": [],
   "source": [
    "fname = 'motor_imagery.npz'\n",
    "url = \"https://osf.io/ksqv8/download\"\n",
    "\n",
    "if not os.path.isfile(fname):\n",
    "  try:\n",
    "    r = requests.get(url)\n",
    "  except requests.ConnectionError:\n",
    "    print(\"!!! Failed to download data !!!\")\n",
    "  else:\n",
    "    if r.status_code != requests.codes.ok:\n",
    "      print(\"!!! Failed to download data !!!\")\n",
    "    else:\n",
    "      with open(fname, \"wb\") as fid:\n",
    "        fid.write(r.content)"
   ]
  },
  {
   "attachments": {},
   "cell_type": "markdown",
   "metadata": {},
   "source": [
    "#### Figure Setup"
   ]
  },
  {
   "cell_type": "code",
   "execution_count": null,
   "metadata": {},
   "outputs": [],
   "source": [
    "rcParams['figure.figsize'] = [20, 4]\n",
    "rcParams['font.size'] = 15\n",
    "rcParams['axes.spines.top'] = False\n",
    "rcParams['axes.spines.right'] = False\n",
    "rcParams['figure.autolayout'] = True"
   ]
  },
  {
   "attachments": {},
   "cell_type": "markdown",
   "metadata": {},
   "source": [
    "## Manipulating the Dataset"
   ]
  },
  {
   "cell_type": "code",
   "execution_count": null,
   "metadata": {},
   "outputs": [],
   "source": [
    "alldat = np.load(fname, allow_pickle=True)['dat']\n",
    "\n",
    "# select just one of the recordings here. 11 is nice because it has some neurons in vis ctx.\n",
    "dat1 = alldat[0][0]\n",
    "dat2 = alldat[0][1]\n",
    "\n",
    "print(dat1.keys())\n",
    "print(dat2.keys())\n",
    "\n",
    "plt.figure(figsize=(8, 8))\n",
    "locs = dat1['locs']\n",
    "view = plotting.view_markers(utils.tal2mni(locs),\n",
    "                             marker_labels=['%d'%k for k in np.arange(locs.shape[0])],\n",
    "                             marker_color='purple',\n",
    "                             marker_size=5)\n",
    "\n",
    "view"
   ]
  },
  {
   "cell_type": "code",
   "execution_count": null,
   "metadata": {},
   "outputs": [],
   "source": [
    "# pick subject 0 and experiment 0 (real movements)\n",
    "dat1 = alldat[0][0]\n",
    "\n",
    "# V is the voltage data\n",
    "V = dat1['V'].astype('float32')\n",
    "\n",
    "# high-pass filter above 50 Hz\n",
    "b, a = signal.butter(3, [50], btype='high', fs=1000)\n",
    "V = signal.filtfilt(b, a, V, 0)\n",
    "\n",
    "# compute smooth envelope of this signal = approx power\n",
    "V = np.abs(V)**2\n",
    "b, a = signal.butter(3, [10], btype='low', fs=1000)\n",
    "V = signal.filtfilt(b, a, V, 0)\n",
    "\n",
    "# normalize each channel so its mean power is 1\n",
    "V = V/V.mean(0)"
   ]
  },
  {
   "cell_type": "code",
   "execution_count": null,
   "metadata": {},
   "outputs": [],
   "source": [
    "# average the broadband power across all tongue and hand trials\n",
    "nt, nchan = V.shape\n",
    "nstim = len(dat1['t_on'])\n",
    "\n",
    "trange = np.arange(0, 2000)\n",
    "ts = dat1['t_on'][:, np.newaxis] + trange\n",
    "V_epochs = np.reshape(V[ts, :], (nstim, 2000, nchan))\n",
    "\n",
    "V_tongue = (V_epochs[dat1['stim_id'] == 11]).mean(0)\n",
    "V_hand = (V_epochs[dat1['stim_id'] == 12]).mean(0)"
   ]
  },
  {
   "cell_type": "code",
   "execution_count": null,
   "metadata": {},
   "outputs": [],
   "source": [
    "# let's find the electrodes that distinguish tongue from hand movements\n",
    "# note the behaviors happen some time after the visual cue\n",
    "\n",
    "plt.figure(figsize=(20, 10))\n",
    "for j in range(46):\n",
    "  ax = plt.subplot(5, 10, j+1)\n",
    "  plt.plot(trange, V_tongue[:, j])\n",
    "  plt.plot(trange, V_hand[:, j])\n",
    "  plt.title('ch%d'%j)\n",
    "  plt.xticks([0, 1000, 2000])\n",
    "  plt.ylim([0, 4])\n",
    "plt.show()"
   ]
  },
  {
   "cell_type": "code",
   "execution_count": null,
   "metadata": {},
   "outputs": [],
   "source": [
    "# let's look at all the trials for electrode 20 that has a good response to hand movements\n",
    "# we will sort trials by stimulus id\n",
    "plt.subplot(1, 3, 1)\n",
    "isort = np.argsort(dat1['stim_id'])\n",
    "plt.imshow(V_epochs[isort, :, 20].astype('float32'),\n",
    "           aspect='auto',\n",
    "           vmax=7, vmin=0,\n",
    "           cmap='magma')\n",
    "plt.colorbar()\n",
    "plt.show()"
   ]
  },
  {
   "cell_type": "code",
   "execution_count": null,
   "metadata": {},
   "outputs": [],
   "source": [
    "# Electrode 42 seems to respond to tongue movements\n",
    "isort = np.argsort(dat1['stim_id'])\n",
    "plt.subplot(1, 3, 1)\n",
    "plt.imshow(V_epochs[isort, :, 42].astype('float32'),\n",
    "           aspect='auto',\n",
    "           vmax=7, vmin=0,\n",
    "           cmap='magma')\n",
    "plt.colorbar()\n",
    "plt.show()"
   ]
  }
 ],
 "metadata": {
  "kernelspec": {
   "display_name": "base",
   "language": "python",
   "name": "python3"
  },
  "language_info": {
   "codemirror_mode": {
    "name": "ipython",
    "version": 3
   },
   "file_extension": ".py",
   "mimetype": "text/x-python",
   "name": "python",
   "nbconvert_exporter": "python",
   "pygments_lexer": "ipython3",
   "version": "3.8.8"
  },
  "orig_nbformat": 4
 },
 "nbformat": 4,
 "nbformat_minor": 2
}
