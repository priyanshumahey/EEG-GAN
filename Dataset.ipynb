{
 "cells": [
  {
   "cell_type": "markdown",
   "metadata": {},
   "source": [
    "# Dataset"
   ]
  },
  {
   "cell_type": "code",
   "execution_count": null,
   "metadata": {},
   "outputs": [],
   "source": [
    "from dotenv import load_dotenv\n",
    "from pathlib import Path\n",
    "import os\n",
    "import mne\n",
    "import numpy as np \n",
    "import matplotlib.pyplot as plt\n",
    "\n",
    "dotenv = Path('.env')\n",
    "load_dotenv(dotenv)\n",
    "test_env_work = os.getenv('test_env_work')\n",
    "assert test_env_work == 'True', '.ENV file is not properly configured is not True'"
   ]
  },
  {
   "cell_type": "markdown",
   "metadata": {},
   "source": [
    "## Downloading the Dataset"
   ]
  },
  {
   "cell_type": "markdown",
   "metadata": {},
   "source": [
    "**EVENTS**:\n",
    "\n",
    "- T0 corresponds to rest\n",
    "- T1 corresponds to onset of motion (real or imagined) of\n",
    "  - the left fist (in runs 3, 4, 7, 8, 11, and 12)\n",
    "  - both fists (in runs 5, 6, 9, 10, 13, and 14)\n",
    "- T2 corresponds to onset of motion (real or imagined) of\n",
    "  - the right fist (in runs 3, 4, 7, 8, 11, and 12)\n",
    "  - both feet (in runs 5, 6, 9, 10, 13, and 14)\n",
    "\n",
    "**RUNS**:\n",
    "\n",
    "1. Baseline, eyes open\n",
    "2. Baseline, eyes closed\n",
    "3. Task 1 (open and close left or right fist)\n",
    "4. Task 2 (imagine opening and closing left or right fist)\n",
    "5. Task 3 (open and close both fists or both feet)\n",
    "6. Task 4 (imagine opening and closing both fists or both feet)\n",
    "7. Task 1\n",
    "8. Task 2\n",
    "9. Task 3\n",
    "10. Task 4\n",
    "11. Task 1\n",
    "12. Task 2\n",
    "13. Task 3\n",
    "14. Task 4\n",
    "\n",
    "| run | task |\n",
    "| --- | --- |\n",
    "| 1 | baseline, eyes open |\n",
    "| 2 | baseline, eyes closed |\n",
    "| 3, 7, 11 | Motor execution: left vs right hand |\n",
    "| 4, 8, 12 | Motor imagery: left vs right hand |\n",
    "| 5, 9, 13 | Motor execution: hands vs feet |\n",
    "| 6, 10, 14 | Motor imagery: hands vs feet |\n",
    "\n",
    "------"
   ]
  },
  {
   "cell_type": "code",
   "execution_count": null,
   "metadata": {},
   "outputs": [],
   "source": [
    "t_min, t_max = -1., 4.\n",
    "event_id = {'hands': 2, 'feet': 3}\n",
    "subject = 1\n",
    "runs = [5, 9, 13]  # motor imagery: hands vs feet\n",
    "\n",
    "# Individual Subjects\n",
    "raw_fnames = mne.datasets.eegbci.load_data(subject, runs, './', verbose=False, update_path=False)\n",
    "raw = mne.io.concatenate_raws([mne.io.read_raw_edf(f, preload=True, verbose=False) for f in raw_fnames])\n",
    "mne.datasets.eegbci.standardize(raw)\n",
    "montage = mne.channels.make_standard_montage(\"standard_1005\")\n",
    "raw.set_montage(montage)"
   ]
  },
  {
   "cell_type": "code",
   "execution_count": null,
   "metadata": {},
   "outputs": [],
   "source": [
    "raw.plot()\n",
    "raw.plot_sensors(show_names=True)\n",
    "raw.plot(n_channels=1)"
   ]
  },
  {
   "cell_type": "code",
   "execution_count": null,
   "metadata": {},
   "outputs": [],
   "source": [
    "raw_3ch = raw.pick(['C3', 'Cz', 'C4'])\n",
    "raw_3ch.plot()"
   ]
  },
  {
   "cell_type": "code",
   "execution_count": null,
   "metadata": {},
   "outputs": [],
   "source": [
    "event_dict = {'T0': 1, 'T1': 2, 'T2': 3}\n",
    "events = mne.events_from_annotations(raw_3ch)\n",
    "\n",
    "fig = mne.viz.plot_events(events[0], event_id=event_dict, sfreq=raw_3ch.info['sfreq'])\n",
    "fig.show()"
   ]
  },
  {
   "cell_type": "code",
   "execution_count": null,
   "metadata": {},
   "outputs": [],
   "source": [
    "main_folder = './MNE-eegbci-data/files/eegmmidb/1.0.0'\n",
    "\n",
    "subdirectories = [f.path for f in os.scandir(main_folder) if f.is_dir()]\n",
    "\n",
    "opened_files = []\n",
    "closed_files = []\n",
    "\n",
    "for subdirectory in subdirectories:\n",
    "    files = os.listdir(subdirectory)\n",
    "    \n",
    "    if len(files) > 0:\n",
    "        for file in files:\n",
    "            \n",
    "            if file[-6:] == '01.edf':\n",
    "                # This is data for eyes opened\n",
    "                eyes_opened = os.path.join(subdirectory, file)\n",
    "                print(eyes_opened)\n",
    "                opened_files.append(eyes_opened)\n",
    "\n",
    "            if file[-6:] == '02.edf':\n",
    "                # This is data for eyes closed\n",
    "                eyes_closed = os.path.join(subdirectory, file)\n",
    "                print(eyes_closed)\n",
    "                closed_files.append(eyes_closed)\n",
    "    else:\n",
    "        print(f\"No files found in {subdirectory}\")\n",
    "        \n",
    "data_loc = \"./EEGData/MNE-eegbci-data/files/eegmmidb/1.0.0/\"\n",
    "raw = mne.io.read_raw_edf('./EEGData/MNE-eegbci-data/files/eegmmidb/1.0.0/S001/S001R01.edf', preload=True)\n",
    "annotations = raw.annotations\n",
    "annotations[0]"
   ]
  },
  {
   "cell_type": "markdown",
   "metadata": {},
   "source": [
    "Complete Dataset"
   ]
  },
  {
   "cell_type": "code",
   "execution_count": null,
   "metadata": {},
   "outputs": [],
   "source": [
    "from Data import download_EEGBCI\n",
    "\n",
    "if input(\"Are you sure you want to download the entire dataset? (Y/N)\") in \"Yy\":\n",
    "    total_subjects = list(range(1, 110))\n",
    "    runs = list(range(1, 15))\n",
    "    download_EEGBCI(total_subjects, runs, './', False)\n",
    "    print(\"Downloaded everything!\")\n",
    "\n",
    "else:\n",
    "    print(\"Download cancelled.\")\n",
    "\n",
    "\n",
    "# Only downloading a subset of the dataset\n",
    "subjects = [x for x in range(1,10)]\n",
    "runs = [1, 2]\n",
    "download_EEGBCI(subjects, runs, './', False)"
   ]
  },
  {
   "cell_type": "code",
   "execution_count": null,
   "metadata": {},
   "outputs": [],
   "source": [
    "main_folder = './MNE-eegbci-data/files/eegmmidb/1.0.0'\n",
    "\n",
    "subdirectories = [f.path for f in os.scandir(main_folder) if f.is_dir()]\n",
    "\n",
    "opened_files = []\n",
    "closed_files = []\n",
    "\n",
    "for subdirectory in subdirectories:\n",
    "    files = os.listdir(subdirectory)\n",
    "    \n",
    "    if len(files) > 0:\n",
    "        for file in files:\n",
    "            \n",
    "            if file[-6:] == '01.edf':\n",
    "                # This is data for eyes opened\n",
    "                eyes_opened = os.path.join(subdirectory, file)\n",
    "                print(eyes_opened)\n",
    "                opened_files.append(eyes_opened)\n",
    "\n",
    "            if file[-6:] == '02.edf':\n",
    "                # This is data for eyes closed\n",
    "                eyes_closed = os.path.join(subdirectory, file)\n",
    "                print(eyes_closed)\n",
    "                closed_files.append(eyes_closed)\n",
    "    else:\n",
    "        print(f\"No files found in {subdirectory}\")"
   ]
  }
 ],
 "metadata": {
  "kernelspec": {
   "display_name": "orl",
   "language": "python",
   "name": "python3"
  },
  "language_info": {
   "codemirror_mode": {
    "name": "ipython",
    "version": 3
   },
   "file_extension": ".py",
   "mimetype": "text/x-python",
   "name": "python",
   "nbconvert_exporter": "python",
   "pygments_lexer": "ipython3",
   "version": "3.8.16"
  }
 },
 "nbformat": 4,
 "nbformat_minor": 2
}
