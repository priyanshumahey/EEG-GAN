{
 "cells": [
  {
   "cell_type": "markdown",
   "metadata": {},
   "source": [
    "# Workflow"
   ]
  },
  {
   "cell_type": "code",
   "execution_count": null,
   "metadata": {},
   "outputs": [],
   "source": [
    "import mne\n",
    "import numpy as np \n",
    "import matplotlib.pyplot as plt\n",
    "import torch\n",
    "import os\n",
    "import sklearn\n",
    "from sklearn.pipeline import Pipeline\n",
    "from sklearn.discriminant_analysis import LinearDiscriminantAnalysis\n",
    "from sklearn.model_selection import ShuffleSplit, cross_val_score, train_test_split\n",
    "from torch.utils.data import DataLoader, Dataset\n",
    "import torch.nn as nn\n",
    "import torch.optim as optim\n",
    "from torchvision import transforms\n",
    "\n",
    "main_folder = './MNE-eegbci-data/files/eegmmidb/1.0.0'\n",
    "\n",
    "subdirectories = [f.path for f in os.scandir(main_folder) if f.is_dir()]\n",
    "\n",
    "opened_files = []\n",
    "closed_files = []\n",
    "\n",
    "for subdirectory in subdirectories:\n",
    "    files = os.listdir(subdirectory)\n",
    "    \n",
    "    if len(files) > 0:\n",
    "        for file in files:\n",
    "            \n",
    "            if file[-6:] == '01.edf':\n",
    "                # This is data for eyes opened\n",
    "                eyes_opened = os.path.join(subdirectory, file)\n",
    "                print(eyes_opened)\n",
    "                opened_files.append(eyes_opened)\n",
    "\n",
    "            if file[-6:] == '02.edf':\n",
    "                # This is data for eyes closed\n",
    "                eyes_closed = os.path.join(subdirectory, file)\n",
    "                print(eyes_closed)\n",
    "                closed_files.append(eyes_closed)\n",
    "    else:\n",
    "        print(f\"No files found in {subdirectory}\")"
   ]
  },
  {
   "cell_type": "markdown",
   "metadata": {},
   "source": [
    "## Filters"
   ]
  },
  {
   "cell_type": "code",
   "execution_count": null,
   "metadata": {},
   "outputs": [],
   "source": [
    "large_open_data = []\n",
    "# This is a list of all the data for eyes opened\n",
    "large_closed_data = []\n",
    "# This is a list of all the data for eyes closed\n",
    "\n",
    "# for data in opened_files:\n",
    "#     large_open_data.append(mne.io.read_raw_edf(data, preload=True, verbose=False).get_data(verbose=False))\n",
    "\n",
    "for data in closed_files:\n",
    "    large_closed_data.append(mne.io.read_raw_edf(data, preload=True, verbose=False).get_data(verbose=False))\n",
    "\n",
    "for data in opened_files[:10]:\n",
    "    data1 = mne.io.read_raw_edf(data, preload=True, verbose=False)\n",
    "    data1.compute_psd().plot()\n",
    "    data1.filter(0.1, 40.0, fir_design=\"firwin\", skip_by_annotation=\"edge\", verbose=False)\n",
    "\n",
    "    # low_cut = 0.1\n",
    "    # high_cut = 30\n",
    "    # data_copy = data1.copy().filter(low_cut, high_cut)\n",
    "    # data_copy.compute_psd().plot()\n",
    "\n",
    "    # ica = mne.preprocessing.ICA(n_components=45, random_state=97, max_iter=800, verbose=False)\n",
    "    # ica.fit(data1, verbose=False)\n",
    "    # ica.exclude = [1, 2]\n",
    "    # data1 = ica.apply(data1, verbose=False)\n",
    "\n",
    "    good_channels1 = data1.info['ch_names']\n",
    "\n",
    "    eeg_data1 = data1.get_data(picks=good_channels1)\n",
    "\n",
    "    large_open_data.append(eeg_data1)"
   ]
  },
  {
   "cell_type": "code",
   "execution_count": null,
   "metadata": {},
   "outputs": [],
   "source": [
    "plt.plot(np.array(large_open_data[0])[0, :100])\n",
    "plt.show()"
   ]
  },
  {
   "cell_type": "code",
   "execution_count": null,
   "metadata": {},
   "outputs": [],
   "source": [
    "for data in closed_files[:10]:\n",
    "    data1 = mne.io.read_raw_edf(data, preload=True, verbose=False)\n",
    "    data1.compute_psd().plot()\n",
    "    data1.filter(0.1, 40.0, fir_design=\"firwin\", skip_by_annotation=\"edge\", verbose=False)\n",
    "\n",
    "    #low_cut = 0.1\n",
    "    #high_cut = 30\n",
    "    #data_copy = data1.copy().filter(low_cut, high_cut)\n",
    "    #data_copy.compute_psd().plot()\n",
    "\n",
    "    # ica = mne.preprocessing.ICA(n_components=45, random_state=97, max_iter=800, verbose=False)\n",
    "    # ica.fit(data1, verbose=False)\n",
    "    # ica.exclude = [1, 2]\n",
    "    # data1 = ica.apply(data1, verbose=False)\n",
    "\n",
    "    good_channels1 = data1.info['ch_names']\n",
    "\n",
    "    eeg_data1 = data1.get_data(picks=good_channels1)\n",
    "\n",
    "    large_open_data.append(eeg_data1)"
   ]
  }
 ],
 "metadata": {
  "kernelspec": {
   "display_name": "Python 3",
   "language": "python",
   "name": "python3"
  },
  "language_info": {
   "codemirror_mode": {
    "name": "ipython",
    "version": 3
   },
   "file_extension": ".py",
   "mimetype": "text/x-python",
   "name": "python",
   "nbconvert_exporter": "python",
   "pygments_lexer": "ipython3",
   "version": "3.9.13"
  }
 },
 "nbformat": 4,
 "nbformat_minor": 2
}
